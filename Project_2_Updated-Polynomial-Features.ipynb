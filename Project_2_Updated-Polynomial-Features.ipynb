{
 "cells": [
  {
   "cell_type": "markdown",
   "metadata": {},
   "source": []
  },
  {
   "cell_type": "code",
   "execution_count": 13,
   "metadata": {},
   "outputs": [],
   "source": [
    "import pandas as pd\n",
    "import numpy as np\n",
    "import seaborn as sns\n",
    "import matplotlib.pyplot as plt\n",
    "from sklearn import metrics\n",
    "from sklearn.linear_model import LinearRegression, LassoCV, RidgeCV\n",
    "from sklearn.model_selection import train_test_split, cross_val_score\n",
    "from sklearn.preprocessing import StandardScaler, PolynomialFeatures\n",
    "from sklearn.preprocessing import Imputer\n",
    "\n",
    "import copy\n",
    "import argparse\n",
    "\n",
    "%matplotlib inline"
   ]
  },
  {
   "cell_type": "code",
   "execution_count": 14,
   "metadata": {},
   "outputs": [
    {
     "name": "stdout",
     "output_type": "stream",
     "text": [
      "(2051, 81)\n",
      "(879, 80)\n"
     ]
    }
   ],
   "source": [
    "ames_train = pd.read_csv('./datasets/train.csv')\n",
    "ames_test = pd.read_csv('./datasets/test.csv')\n",
    "ames_test_1 = pd.read_csv('./datasets/test.csv')\n",
    "print(ames_train.shape)\n",
    "print(ames_test.shape)"
   ]
  },
  {
   "cell_type": "code",
   "execution_count": 17,
   "metadata": {},
   "outputs": [
    {
     "data": {
      "text/plain": [
       "dtype('O')"
      ]
     },
     "execution_count": 17,
     "metadata": {},
     "output_type": "execute_result"
    }
   ],
   "source": []
  },
  {
   "cell_type": "code",
   "execution_count": 9,
   "metadata": {},
   "outputs": [],
   "source": [
    "Power_Var = []\n",
    "def power_variables(var_1, var_2, Name):\n",
    "    ames_train['Name'] = ames_train[var_1] * ames_train[var_2]\n",
    "    ames_test['Name'] = ames_test[var_1] * ames_test[var_2]\n",
    "    ames_train['Name'].append(Power_Var)\n",
    "    return Lst\n"
   ]
  },
  {
   "cell_type": "code",
   "execution_count": 10,
   "metadata": {},
   "outputs": [
    {
     "ename": "KeyError",
     "evalue": "\"None of [Float64Index([ 725.0,  913.0, 1057.0,  384.0,  676.0, 1517.0,  547.0, 1188.0,\\n               924.0, 1040.0,\\n              ...\\n              1572.0,  864.0,  600.0,  754.0, 1932.0, 1884.0,  861.0,  896.0,\\n              1200.0,  994.0],\\n             dtype='float64', length=2051)] are in the [columns]\"",
     "output_type": "error",
     "traceback": [
      "\u001b[0;31m---------------------------------------------------------------------------\u001b[0m",
      "\u001b[0;31mKeyError\u001b[0m                                  Traceback (most recent call last)",
      "\u001b[0;32m<ipython-input-10-8d85245ef589>\u001b[0m in \u001b[0;36m<module>\u001b[0;34m\u001b[0m\n\u001b[0;32m----> 1\u001b[0;31m \u001b[0mpower_variables\u001b[0m\u001b[0;34m(\u001b[0m\u001b[0mames_train\u001b[0m\u001b[0;34m[\u001b[0m\u001b[0;34m'Total Bsmt SF'\u001b[0m\u001b[0;34m]\u001b[0m\u001b[0;34m,\u001b[0m \u001b[0mames_train\u001b[0m\u001b[0;34m[\u001b[0m\u001b[0;34m'1st Flr SF'\u001b[0m\u001b[0;34m]\u001b[0m\u001b[0;34m,\u001b[0m \u001b[0;34m'base_1st'\u001b[0m\u001b[0;34m)\u001b[0m\u001b[0;34m\u001b[0m\u001b[0;34m\u001b[0m\u001b[0m\n\u001b[0m",
      "\u001b[0;32m<ipython-input-9-714ed120cf8c>\u001b[0m in \u001b[0;36mpower_variables\u001b[0;34m(var_1, var_2, Name)\u001b[0m\n\u001b[1;32m      1\u001b[0m \u001b[0mPower_Var\u001b[0m \u001b[0;34m=\u001b[0m \u001b[0;34m[\u001b[0m\u001b[0;34m]\u001b[0m\u001b[0;34m\u001b[0m\u001b[0;34m\u001b[0m\u001b[0m\n\u001b[1;32m      2\u001b[0m \u001b[0;32mdef\u001b[0m \u001b[0mpower_variables\u001b[0m\u001b[0;34m(\u001b[0m\u001b[0mvar_1\u001b[0m\u001b[0;34m,\u001b[0m \u001b[0mvar_2\u001b[0m\u001b[0;34m,\u001b[0m \u001b[0mName\u001b[0m\u001b[0;34m)\u001b[0m\u001b[0;34m:\u001b[0m\u001b[0;34m\u001b[0m\u001b[0;34m\u001b[0m\u001b[0m\n\u001b[0;32m----> 3\u001b[0;31m     \u001b[0mames_train\u001b[0m\u001b[0;34m[\u001b[0m\u001b[0;34m'Name'\u001b[0m\u001b[0;34m]\u001b[0m \u001b[0;34m=\u001b[0m \u001b[0mames_train\u001b[0m\u001b[0;34m[\u001b[0m\u001b[0mvar_1\u001b[0m\u001b[0;34m]\u001b[0m \u001b[0;34m*\u001b[0m \u001b[0mames_train\u001b[0m\u001b[0;34m[\u001b[0m\u001b[0mvar_2\u001b[0m\u001b[0;34m]\u001b[0m\u001b[0;34m\u001b[0m\u001b[0;34m\u001b[0m\u001b[0m\n\u001b[0m\u001b[1;32m      4\u001b[0m     \u001b[0mames_test\u001b[0m\u001b[0;34m[\u001b[0m\u001b[0;34m'Name'\u001b[0m\u001b[0;34m]\u001b[0m \u001b[0;34m=\u001b[0m \u001b[0mames_test\u001b[0m\u001b[0;34m[\u001b[0m\u001b[0mvar_1\u001b[0m\u001b[0;34m]\u001b[0m \u001b[0;34m*\u001b[0m \u001b[0mames_test\u001b[0m\u001b[0;34m[\u001b[0m\u001b[0mvar_2\u001b[0m\u001b[0;34m]\u001b[0m\u001b[0;34m\u001b[0m\u001b[0;34m\u001b[0m\u001b[0m\n\u001b[1;32m      5\u001b[0m     \u001b[0mames_train\u001b[0m\u001b[0;34m[\u001b[0m\u001b[0;34m'Name'\u001b[0m\u001b[0;34m]\u001b[0m\u001b[0;34m.\u001b[0m\u001b[0mappend\u001b[0m\u001b[0;34m(\u001b[0m\u001b[0mPower_Var\u001b[0m\u001b[0;34m)\u001b[0m\u001b[0;34m\u001b[0m\u001b[0;34m\u001b[0m\u001b[0m\n",
      "\u001b[0;32m/anaconda3/lib/python3.6/site-packages/pandas/core/frame.py\u001b[0m in \u001b[0;36m__getitem__\u001b[0;34m(self, key)\u001b[0m\n\u001b[1;32m   2932\u001b[0m                 \u001b[0mkey\u001b[0m \u001b[0;34m=\u001b[0m \u001b[0mlist\u001b[0m\u001b[0;34m(\u001b[0m\u001b[0mkey\u001b[0m\u001b[0;34m)\u001b[0m\u001b[0;34m\u001b[0m\u001b[0;34m\u001b[0m\u001b[0m\n\u001b[1;32m   2933\u001b[0m             indexer = self.loc._convert_to_indexer(key, axis=1,\n\u001b[0;32m-> 2934\u001b[0;31m                                                    raise_missing=True)\n\u001b[0m\u001b[1;32m   2935\u001b[0m \u001b[0;34m\u001b[0m\u001b[0m\n\u001b[1;32m   2936\u001b[0m         \u001b[0;31m# take() does not accept boolean indexers\u001b[0m\u001b[0;34m\u001b[0m\u001b[0;34m\u001b[0m\u001b[0;34m\u001b[0m\u001b[0m\n",
      "\u001b[0;32m/anaconda3/lib/python3.6/site-packages/pandas/core/indexing.py\u001b[0m in \u001b[0;36m_convert_to_indexer\u001b[0;34m(self, obj, axis, is_setter, raise_missing)\u001b[0m\n\u001b[1;32m   1352\u001b[0m                 kwargs = {'raise_missing': True if is_setter else\n\u001b[1;32m   1353\u001b[0m                           raise_missing}\n\u001b[0;32m-> 1354\u001b[0;31m                 \u001b[0;32mreturn\u001b[0m \u001b[0mself\u001b[0m\u001b[0;34m.\u001b[0m\u001b[0m_get_listlike_indexer\u001b[0m\u001b[0;34m(\u001b[0m\u001b[0mobj\u001b[0m\u001b[0;34m,\u001b[0m \u001b[0maxis\u001b[0m\u001b[0;34m,\u001b[0m \u001b[0;34m**\u001b[0m\u001b[0mkwargs\u001b[0m\u001b[0;34m)\u001b[0m\u001b[0;34m[\u001b[0m\u001b[0;36m1\u001b[0m\u001b[0;34m]\u001b[0m\u001b[0;34m\u001b[0m\u001b[0;34m\u001b[0m\u001b[0m\n\u001b[0m\u001b[1;32m   1355\u001b[0m         \u001b[0;32melse\u001b[0m\u001b[0;34m:\u001b[0m\u001b[0;34m\u001b[0m\u001b[0;34m\u001b[0m\u001b[0m\n\u001b[1;32m   1356\u001b[0m             \u001b[0;32mtry\u001b[0m\u001b[0;34m:\u001b[0m\u001b[0;34m\u001b[0m\u001b[0;34m\u001b[0m\u001b[0m\n",
      "\u001b[0;32m/anaconda3/lib/python3.6/site-packages/pandas/core/indexing.py\u001b[0m in \u001b[0;36m_get_listlike_indexer\u001b[0;34m(self, key, axis, raise_missing)\u001b[0m\n\u001b[1;32m   1159\u001b[0m         self._validate_read_indexer(keyarr, indexer,\n\u001b[1;32m   1160\u001b[0m                                     \u001b[0mo\u001b[0m\u001b[0;34m.\u001b[0m\u001b[0m_get_axis_number\u001b[0m\u001b[0;34m(\u001b[0m\u001b[0maxis\u001b[0m\u001b[0;34m)\u001b[0m\u001b[0;34m,\u001b[0m\u001b[0;34m\u001b[0m\u001b[0;34m\u001b[0m\u001b[0m\n\u001b[0;32m-> 1161\u001b[0;31m                                     raise_missing=raise_missing)\n\u001b[0m\u001b[1;32m   1162\u001b[0m         \u001b[0;32mreturn\u001b[0m \u001b[0mkeyarr\u001b[0m\u001b[0;34m,\u001b[0m \u001b[0mindexer\u001b[0m\u001b[0;34m\u001b[0m\u001b[0;34m\u001b[0m\u001b[0m\n\u001b[1;32m   1163\u001b[0m \u001b[0;34m\u001b[0m\u001b[0m\n",
      "\u001b[0;32m/anaconda3/lib/python3.6/site-packages/pandas/core/indexing.py\u001b[0m in \u001b[0;36m_validate_read_indexer\u001b[0;34m(self, key, indexer, axis, raise_missing)\u001b[0m\n\u001b[1;32m   1244\u001b[0m                 raise KeyError(\n\u001b[1;32m   1245\u001b[0m                     u\"None of [{key}] are in the [{axis}]\".format(\n\u001b[0;32m-> 1246\u001b[0;31m                         key=key, axis=self.obj._get_axis_name(axis)))\n\u001b[0m\u001b[1;32m   1247\u001b[0m \u001b[0;34m\u001b[0m\u001b[0m\n\u001b[1;32m   1248\u001b[0m             \u001b[0;31m# We (temporarily) allow for some missing keys with .loc, except in\u001b[0m\u001b[0;34m\u001b[0m\u001b[0;34m\u001b[0m\u001b[0;34m\u001b[0m\u001b[0m\n",
      "\u001b[0;31mKeyError\u001b[0m: \"None of [Float64Index([ 725.0,  913.0, 1057.0,  384.0,  676.0, 1517.0,  547.0, 1188.0,\\n               924.0, 1040.0,\\n              ...\\n              1572.0,  864.0,  600.0,  754.0, 1932.0, 1884.0,  861.0,  896.0,\\n              1200.0,  994.0],\\n             dtype='float64', length=2051)] are in the [columns]\""
     ]
    }
   ],
   "source": [
    "power_variables(ames_train['Total Bsmt SF'], ames_train['1st Flr SF'], 'base_1st')"
   ]
  },
  {
   "cell_type": "code",
   "execution_count": null,
   "metadata": {},
   "outputs": [],
   "source": []
  },
  {
   "cell_type": "code",
   "execution_count": null,
   "metadata": {},
   "outputs": [],
   "source": [
    "ames_train['base_1st'] = ames_train['Total Bsmt SF'] * ames_train['1st Flr SF']\n",
    "ames_test['base_1st'] = ames_test['Total Bsmt SF'] * ames_test['1st Flr SF']"
   ]
  },
  {
   "cell_type": "code",
   "execution_count": null,
   "metadata": {},
   "outputs": [],
   "source": [
    "ames_train['quality_year'] = ames_train['Overall Qual'] * ames_train['Year Built']\n",
    "ames_test['quality_year'] = ames_test['Overall Qual'] * ames_test['Year Built']"
   ]
  },
  {
   "cell_type": "code",
   "execution_count": null,
   "metadata": {},
   "outputs": [],
   "source": [
    "ames_train['quality_sq_ft'] = ames_train['Overall Qual'] * ames_train['1st Flr SF']\n",
    "ames_test['quality_sq_ft'] = ames_test['Overall Qual'] * ames_test['1st Flr SF']"
   ]
  },
  {
   "cell_type": "code",
   "execution_count": null,
   "metadata": {},
   "outputs": [],
   "source": [
    "ames_train['garage_area_cars'] = ames_train['Garage Area'] * ames_train['Garage Cars']\n",
    "ames_test['garage_area_cars'] = ames_test['Garage Area'] * ames_test['Garage Cars']"
   ]
  },
  {
   "cell_type": "code",
   "execution_count": null,
   "metadata": {},
   "outputs": [],
   "source": [
    "ames_train['qual_neig'] = ames_train['Neighborhood'] * ames_train['Overall Qual']\n",
    "ames_test['qual_neig'] = ames_test['Neighborhood'] * ames_test['Overall Qual']"
   ]
  },
  {
   "cell_type": "code",
   "execution_count": null,
   "metadata": {},
   "outputs": [],
   "source": [
    "ames_train['Quality_sq'] = ames_train['Overall Qual'] * ames_train['Overall Qual']\n",
    "ames_test['Quality_sq'] = ames_test['Overall Qual'] * ames_test['Overall Qual']"
   ]
  },
  {
   "cell_type": "code",
   "execution_count": null,
   "metadata": {},
   "outputs": [],
   "source": [
    "ames_train['GLA_OQ'] = ames_train['Gr Liv Area'] * ames_train['Overall Qual']\n",
    "ames_test['GLA_OQ'] = ames_test['Gr Liv Area'] * ames_test['Overall Qual']"
   ]
  },
  {
   "cell_type": "code",
   "execution_count": null,
   "metadata": {},
   "outputs": [],
   "source": [
    "ames_train['GLA_SQ'] = ames_train['Gr Liv Area'] * ames_train['Gr Liv Area']\n",
    "ames_test['GLA_SQ'] = ames_test['Gr Liv Area'] * ames_test['Gr Liv Area']"
   ]
  },
  {
   "cell_type": "code",
   "execution_count": null,
   "metadata": {},
   "outputs": [],
   "source": [
    "ames_train['Yr_brm'] = ames_train['Year Built'] * ames_train['Year Remod/Add']\n",
    "ames_test['Yr_brm'] = ames_test['Year Built'] * ames_test['Year Remod/Add']"
   ]
  },
  {
   "cell_type": "code",
   "execution_count": null,
   "metadata": {},
   "outputs": [],
   "source": [
    "ames_train['GLA_Bath'] = ames_train['Gr Liv Area'] * ames_train['Full Bath']\n",
    "ames_test['GLA_Bath'] = ames_test['Gr Liv Area'] * ames_test['Full Bath']"
   ]
  },
  {
   "cell_type": "code",
   "execution_count": null,
   "metadata": {},
   "outputs": [],
   "source": [
    "ames_test.columns"
   ]
  },
  {
   "cell_type": "code",
   "execution_count": null,
   "metadata": {},
   "outputs": [],
   "source": [
    "tested_col = [\n",
    "            'Overall Qual',            \n",
    "            'Year Built',            \n",
    "    'Total Bsmt SF',             \n",
    "    '1st Flr SF',            \n",
    "    'Gr Liv Area',            \n",
    "    'Full Bath',           \n",
    "    'TotRms AbvGrd',            \n",
    "    'Neighborhood',            \n",
    "    'GLA_SQ]\n"
   ]
  },
  {
   "cell_type": "code",
   "execution_count": null,
   "metadata": {
    "scrolled": true
   },
   "outputs": [],
   "source": [
    "ames_train.corr()[['SalePrice']].sort_values('SalePrice', ascending=False)"
   ]
  },
  {
   "cell_type": "code",
   "execution_count": null,
   "metadata": {},
   "outputs": [],
   "source": []
  },
  {
   "cell_type": "code",
   "execution_count": null,
   "metadata": {},
   "outputs": [],
   "source": [
    "plt.figure(figsize = (40, 35))\n",
    "plt.xticks(rotation=45)\n",
    "mask = np.zeros_like(corr_1)\n",
    "mask[np.triu_indices_from(mask)] = True\n",
    "sns.set(font_scale = 2)\n",
    "ax = sns.heatmap(corr_1, mask=mask, annot=True, cmap='Spectral', vmax=1, vmin=-1,\n",
    "            square=False, linewidths=1.5,  cbar_kws={\"shrink\": 1.0}, xticklabels='auto')\n"
   ]
  },
  {
   "cell_type": "code",
   "execution_count": null,
   "metadata": {},
   "outputs": [],
   "source": [
    "# sns.pairplot(ames_train, y_vars = corr_2, x_vars = corr_2);"
   ]
  },
  {
   "cell_type": "code",
   "execution_count": null,
   "metadata": {},
   "outputs": [],
   "source": [
    "# # Creating a function that makes a power variable (feature) and puts that feature in a dataframe.\n",
    "# def new_variable(series_1, series_2, series_name, df):\n",
    "#     df[series_name] = series_1 * series_2\n",
    "#     return df"
   ]
  },
  {
   "cell_type": "code",
   "execution_count": null,
   "metadata": {},
   "outputs": [],
   "source": [
    "def dropped_cols(df, tested_col):\n",
    "    dropped_col = []\n",
    "    for col in df:\n",
    "        if col not in tested_col:\n",
    "            dropped_col.append(col)\n",
    "    return dropped_col  \n",
    "\n",
    "\n",
    "def dummy_vars_list(df, tested_cols):\n",
    "    dummy_vars_list = []\n",
    "    for col in tested_cols:\n",
    "        if df[col].dtype.name == 'object':\n",
    "            dummy_vars_list.append(col)\n",
    "    return dummy_vars_list            \n",
    "    \n",
    "\n",
    "\n",
    "def get_dummies(train, test, columns, drop_first=True,\n",
    "                inplace=False):\n",
    "    if not inplace:\n",
    "        train = copy.deepcopy(train)\n",
    "        test = copy.deepcopy(test)\n",
    "        \n",
    "\n",
    "    for column in columns:\n",
    "        train_levels = set(train[column])\n",
    "        test_levels = set(test[column])\n",
    "        all_levels = sorted(train_levels.union(test_levels))\n",
    "        if drop_first:\n",
    "            all_levels = all_levels[1:]\n",
    "        for level in all_levels:\n",
    "            dummy_name = \"%s_is_%s\" % (column, level)\n",
    "            train[dummy_name] = (train[column] == level) # Could be replaced with an if statement\n",
    "            test[dummy_name] = (test[column] == level)\n",
    "    train.drop(columns=columns, inplace=True)\n",
    "    test.drop(columns=columns, inplace=True)\n",
    "\n",
    "    \n",
    "    # return only necessary if inplace=False\n",
    "    return (train, test)\n",
    "\n",
    "def check_compatibility(train, test):\n",
    "    # assume compatible unless one of these checks fails\n",
    "    if not (len(train.columns) == len(test.columns)):\n",
    "        return False\n",
    "    for column in train.columns:\n",
    "        if not (column in test.columns):\n",
    "            return False\n",
    "    return True\n",
    "\n",
    "\n",
    "def clean_data(train, test, columns_to_drop,\n",
    "               columns_for_dummies, remove_na=True,\n",
    "               drop_first=True, inplace=False):\n",
    "    if not inplace:\n",
    "        train = copy.deepcopy(train)\n",
    "        test = copy.deepcopy(test)\n",
    "  \n",
    "    # inplace=True because if user called with inplace=False,\n",
    "    # we already made a copy and aren't modifying his/her original\n",
    "    train.drop(columns=columns_to_drop, inplace=True)\n",
    "    test.drop(columns=columns_to_drop, inplace=True)\n",
    "  \n",
    "\n",
    "#     same reason as above for inplace=True\n",
    "    if remove_na:\n",
    "        train.dropna(inplace=True)\n",
    "        test.dropna(inplace=True)\n",
    "\n",
    "\n",
    "    (train, test) = get_dummies(train, test,\n",
    "                                columns=columns_for_dummies,\n",
    "                                drop_first=drop_first,\n",
    "                                inplace=inplace)\n",
    "    \n",
    "\n",
    "    return (train, test)\n",
    "\n",
    "\n",
    "###################\n",
    "\n",
    "def patrick_clean_data(train_df, test_df, variables, remove_na=True, drop_first=True, inplace=False):\n",
    "    columns_to_drop = dropped_cols(test_df, variables)\n",
    "    dummy_columns = dummy_vars_list(test_df, variables)\n",
    "    new_train, new_test = clean_data(train_df, test_df, \n",
    "                                     columns_to_drop, \n",
    "                                     dummy_columns, \n",
    "                                     remove_na=remove_na, \n",
    "                                     drop_first=drop_first, \n",
    "                                     inplace=inplace)\n",
    "    \n",
    "    y_col_name = []\n",
    "    for col in new_train.columns:\n",
    "        if col not in new_test.columns:\n",
    "            y = new_train[col]\n",
    "            y_col_name = col\n",
    "    new_train = new_train.drop(y_col_name, axis=1)\n",
    "    \n",
    "    assert check_compatibility(new_train, new_test)\n",
    "    \n",
    "#     for column in new_test.columns: # Turn this on if I want to see what columns were made\n",
    "#         print(column)\n",
    "\n",
    "    return new_train, new_test, y"
   ]
  },
  {
   "cell_type": "code",
   "execution_count": null,
   "metadata": {
    "scrolled": false
   },
   "outputs": [],
   "source": [
    "new_train, new_test, y = patrick_clean_data(ames_train, ames_test, tested_col)\n",
    "print(new_test.shape)\n",
    "print(new_train.shape)\n",
    "print(y.shape)"
   ]
  },
  {
   "cell_type": "code",
   "execution_count": null,
   "metadata": {},
   "outputs": [],
   "source": [
    "poly = PolynomialFeatures(degree=2, interaction_only=False, include_bias=False)\n",
    "\n",
    "# Fit and transform our X data.\n",
    "poly_train = poly.fit_transform(new_train)\n",
    "poly_test = poly.fit_transform(new_test)\n",
    "poly_train.shape"
   ]
  },
  {
   "cell_type": "code",
   "execution_count": null,
   "metadata": {},
   "outputs": [],
   "source": [
    "poly.get_feature_names(tested_col)"
   ]
  },
  {
   "cell_type": "code",
   "execution_count": 11,
   "metadata": {},
   "outputs": [],
   "source": [
    "def metrics_summary(X, y, test_set, cv, k, scaled=True, poly=False, n_alphas=100):\n",
    "    \n",
    "#     if poly:\n",
    "#         poly = PolynomialFeatures(degree=2, include_bias=False)\n",
    "#         X = poly.fit_transform(X)\n",
    "                \n",
    "    # Scaling our data\n",
    "    ss = StandardScaler()\n",
    "    X_sc = ss.fit_transform(X)\n",
    "    test_sc = ss.transform(test_set)\n",
    "\n",
    "    # Instantiating our models\n",
    "    model = LinearRegression()\n",
    "    lasso = LassoCV(n_alphas=n_alphas, cv=5)    \n",
    "    ridge = RidgeCV(cv=5)\n",
    "\n",
    "    # Fitting our models on non-scaled and scaled data\n",
    "    model.fit(X,y)\n",
    "    model.fit(X_sc, y)\n",
    "    lasso.fit(X_sc, y)\n",
    "    ridge.fit(X_sc, y)\n",
    "\n",
    "    # Running the predictions on our model\n",
    "    model_p = model.predict(X)\n",
    "    model_pred = model.predict(X_sc)\n",
    "    lasso_pred = lasso.predict(X_sc)\n",
    "    ridge_pred = ridge.predict(X_sc)\n",
    "\n",
    "    resids_lr = y - model_p\n",
    "    resids_lr_sc = y - model_pred\n",
    "    resids_lasso = y - lasso_pred\n",
    "    resids_ridge = y - ridge_pred\n",
    "\n",
    "    rss_lr = (resids_lr ** 2).sum()\n",
    "    rss_lr_sc = (resids_lr_sc ** 2).sum()\n",
    "    rss_lasso = (resids_lasso ** 2).sum()\n",
    "    rss_ridge = (resids_ridge ** 2).sum()\n",
    "\n",
    "    r_squared = (metrics.r2_score(y, model_p))\n",
    "    adj_r2 = 1 - (1-r_squared)*((len(y)-1)/(len(y)-X.shape[k]-1))\n",
    "\n",
    "    # Running cross value scores\n",
    "    cvs = cross_val_score(model, X_sc, y, cv=cv).mean()\n",
    "    cvs_l = cross_val_score(lasso, X_sc, y, cv=cv).mean()\n",
    "    cvs_r = cross_val_score(ridge, X_sc, y, cv=cv).mean()\n",
    "\n",
    "    print(f'RSS (Residual Sum of Squares) : {(rss_lr)}')\n",
    "    print(f'MAE (Mean Absolute Error) : {(metrics.mean_absolute_error(y, model_p))}') \n",
    "    print(f'MSE (Mean Square Error) : {(metrics.mean_squared_error(y, model_p))}')\n",
    "    print()\n",
    "    print(f'Root MSE (Root Meen Square Error Linear Non-Scaled) : {(np.sqrt(rss_lr / len(model_p)))}')\n",
    "    print(f'Root MSE (Root Meen Square Error Linear Scaled) : {(np.sqrt(rss_lr_sc / len(model_pred)))}')\n",
    "    print(f'Root MSE (Root Meen Square Error Lasso) : {(np.sqrt(rss_lasso / len(lasso_pred)))}')\n",
    "    print(f'Root MSE (Root Meen Square Error Ridge) : {(np.sqrt(rss_ridge / len(ridge_pred)))}')\n",
    "    print()\n",
    "    print(f'R\\u00b2 : {(r_squared)}')\n",
    "    print(f'Adjusted R\\u00b2 : {(adj_r2)}')\n",
    "    print()\n",
    "    print(f'CVS (Cross Value Score LR) : {(cvs)}')\n",
    "    print(f'CVS (Cross Value Score Lasso) : {(cvs_l)}')\n",
    "    print(f'CVS (Cross Value Score Ridge) : {(cvs_r)}')\n",
    "\n",
    "    model.fit(X_sc, y)\n",
    "    model_pred_final = model.predict(test_sc)\n",
    "    lasso.fit(X_sc, y)\n",
    "    lasso_pred_final = lasso.predict(test_sc)\n",
    "    ridge.fit(X_sc, y)\n",
    "    ridge_pred_final = ridge.predict(test_sc)\n",
    "\n",
    "    if (cvs > cvs_l) and (cvs > cvs_r):\n",
    "        prediction = pd.DataFrame(model_pred_final, columns=['SalePrice']).to_csv('wd_prediction_13.csv')\n",
    "    elif (cvs_l > cvs) and (cvs_l > cvs_r):\n",
    "        prediction = pd.DataFrame(lasso_pred_final, columns=['SalePrice']).to_csv('wd_prediction_13.csv')\n",
    "    elif (cvs_r > cvs_l) and (cvs_r > cvs):\n",
    "        prediction = pd.DataFrame(ridge_pred_final, columns=['SalePrice']).to_csv('wd_prediction_13.csv')\n",
    "    return prediction\n"
   ]
  },
  {
   "cell_type": "code",
   "execution_count": null,
   "metadata": {
    "scrolled": false
   },
   "outputs": [],
   "source": [
    "metrics_summary(poly_train, y, poly_test, 5, 1, scaled=True, poly=False)"
   ]
  },
  {
   "cell_type": "raw",
   "metadata": {},
   "source": [
    "# Blank = pd.DataFrame(some_model_prediction, columns=['SalePrice']).to_csv('some_name.csv')\n"
   ]
  },
  {
   "cell_type": "code",
   "execution_count": 12,
   "metadata": {},
   "outputs": [
    {
     "ename": "NameError",
     "evalue": "name 'ridge_pred_final' is not defined",
     "output_type": "error",
     "traceback": [
      "\u001b[0;31m---------------------------------------------------------------------------\u001b[0m",
      "\u001b[0;31mNameError\u001b[0m                                 Traceback (most recent call last)",
      "\u001b[0;32m<ipython-input-12-2465269f4768>\u001b[0m in \u001b[0;36m<module>\u001b[0;34m\u001b[0m\n\u001b[0;32m----> 1\u001b[0;31m \u001b[0mprediction\u001b[0m \u001b[0;34m=\u001b[0m \u001b[0mpd\u001b[0m\u001b[0;34m.\u001b[0m\u001b[0mDataFrame\u001b[0m\u001b[0;34m(\u001b[0m\u001b[0mridge_pred_final\u001b[0m\u001b[0;34m,\u001b[0m \u001b[0mcolumns\u001b[0m\u001b[0;34m=\u001b[0m\u001b[0;34m[\u001b[0m\u001b[0;34m'SalePrice'\u001b[0m\u001b[0;34m]\u001b[0m\u001b[0;34m)\u001b[0m\u001b[0;34m.\u001b[0m\u001b[0mto_csv\u001b[0m\u001b[0;34m(\u001b[0m\u001b[0;34m'wd_prediction_13.csv'\u001b[0m\u001b[0;34m)\u001b[0m\u001b[0;34m\u001b[0m\u001b[0;34m\u001b[0m\u001b[0m\n\u001b[0m",
      "\u001b[0;31mNameError\u001b[0m: name 'ridge_pred_final' is not defined"
     ]
    }
   ],
   "source": []
  },
  {
   "cell_type": "code",
   "execution_count": null,
   "metadata": {},
   "outputs": [],
   "source": []
  }
 ],
 "metadata": {
  "kernelspec": {
   "display_name": "Python 3",
   "language": "python",
   "name": "python3"
  },
  "language_info": {
   "codemirror_mode": {
    "name": "ipython",
    "version": 3
   },
   "file_extension": ".py",
   "mimetype": "text/x-python",
   "name": "python",
   "nbconvert_exporter": "python",
   "pygments_lexer": "ipython3",
   "version": "3.6.8"
  }
 },
 "nbformat": 4,
 "nbformat_minor": 2
}
