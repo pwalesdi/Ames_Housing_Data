{
 "cells": [
  {
   "cell_type": "markdown",
   "metadata": {},
   "source": [
    "<img src=\"http://imgur.com/1ZcRyrc.png\" style=\"float: left; margin: 20px; height: 55px\">\n",
    "\n",
    "# Project 2 - Ames Housing Data and Kaggle Challenge\n",
    "\n",
    "_Authors: Patrick Wales-Dinan_\n",
    "\n",
    "---\n",
    "\n",
    "\"What is this lab about\""
   ]
  },
  {
   "cell_type": "code",
   "execution_count": 1,
   "metadata": {},
   "outputs": [],
   "source": [
    "import pandas as pd\n",
    "import numpy as np\n",
    "import seaborn as sns\n",
    "import matplotlib.pyplot as plt\n",
    "from sklearn import metrics\n",
    "from sklearn.linear_model import LinearRegression\n",
    "\n",
    "%matplotlib inline"
   ]
  },
  {
   "cell_type": "code",
   "execution_count": 2,
   "metadata": {},
   "outputs": [],
   "source": [
    "ames_train = pd.read_csv('./datasets/train.csv')\n",
    "ames_test = pd.read_csv('./datasets/test.csv')\n",
    "ames_test_1 = pd.read_csv('./datasets/test.csv')"
   ]
  },
  {
   "cell_type": "code",
   "execution_count": 3,
   "metadata": {},
   "outputs": [
    {
     "data": {
      "text/plain": [
       "Index(['Id', 'PID', 'MS SubClass', 'MS Zoning', 'Lot Frontage', 'Lot Area',\n",
       "       'Street', 'Alley', 'Lot Shape', 'Land Contour', 'Utilities',\n",
       "       'Lot Config', 'Land Slope', 'Neighborhood', 'Condition 1',\n",
       "       'Condition 2', 'Bldg Type', 'House Style', 'Overall Qual',\n",
       "       'Overall Cond', 'Year Built', 'Year Remod/Add', 'Roof Style',\n",
       "       'Roof Matl', 'Exterior 1st', 'Exterior 2nd', 'Mas Vnr Type',\n",
       "       'Mas Vnr Area', 'Exter Qual', 'Exter Cond', 'Foundation', 'Bsmt Qual',\n",
       "       'Bsmt Cond', 'Bsmt Exposure', 'BsmtFin Type 1', 'BsmtFin SF 1',\n",
       "       'BsmtFin Type 2', 'BsmtFin SF 2', 'Bsmt Unf SF', 'Total Bsmt SF',\n",
       "       'Heating', 'Heating QC', 'Central Air', 'Electrical', '1st Flr SF',\n",
       "       '2nd Flr SF', 'Low Qual Fin SF', 'Gr Liv Area', 'Bsmt Full Bath',\n",
       "       'Bsmt Half Bath', 'Full Bath', 'Half Bath', 'Bedroom AbvGr',\n",
       "       'Kitchen AbvGr', 'Kitchen Qual', 'TotRms AbvGrd', 'Functional',\n",
       "       'Fireplaces', 'Fireplace Qu', 'Garage Type', 'Garage Yr Blt',\n",
       "       'Garage Finish', 'Garage Cars', 'Garage Area', 'Garage Qual',\n",
       "       'Garage Cond', 'Paved Drive', 'Wood Deck SF', 'Open Porch SF',\n",
       "       'Enclosed Porch', '3Ssn Porch', 'Screen Porch', 'Pool Area', 'Pool QC',\n",
       "       'Fence', 'Misc Feature', 'Misc Val', 'Mo Sold', 'Yr Sold', 'Sale Type',\n",
       "       'SalePrice'],\n",
       "      dtype='object')"
      ]
     },
     "execution_count": 3,
     "metadata": {},
     "output_type": "execute_result"
    }
   ],
   "source": [
    "ames_train.columns"
   ]
  },
  {
   "cell_type": "code",
   "execution_count": 4,
   "metadata": {},
   "outputs": [],
   "source": [
    "quant_vars = ames_train[['Roof Matl',\n",
    "          'BsmtFin SF 2', \n",
    "          'Bsmt Unf SF', \n",
    "          'Total Bsmt SF', \n",
    "          'BsmtFin SF 1',\n",
    "          '1st Flr SF',\n",
    "          '2nd Flr SF', \n",
    "          'Low Qual Fin SF', \n",
    "          'Gr Liv Area', \n",
    "          'Bsmt Full Bath',\n",
    "          'Bsmt Half Bath', \n",
    "          'Full Bath', \n",
    "          'Half Bath', \n",
    "          'Bedroom AbvGr',\n",
    "          'Kitchen AbvGr',\n",
    "          'TotRms AbvGrd',\n",
    "          'Fireplaces',\n",
    "          'Garage Cars', \n",
    "          'Garage Area',\n",
    "          'Wood Deck SF', \n",
    "          'Open Porch SF',\n",
    "          'Enclosed Porch', \n",
    "          '3Ssn Porch', \n",
    "          'Screen Porch', \n",
    "          'Pool Area',\n",
    "          'Misc Val']]"
   ]
  },
  {
   "cell_type": "code",
   "execution_count": 5,
   "metadata": {},
   "outputs": [],
   "source": [
    "non_quant_vars = ames_train[['MS SubClass', \n",
    "    'MS Zoning', \n",
    "    'Neighborhood', \n",
    "    'Utilities',\n",
    "    'Bldg Type',\n",
    "    'House Style',\n",
    "    'Roof Style',\n",
    "    'Roof Matl',\n",
    "    'Exterior 1st',\n",
    "    'Exterior 2nd',\n",
    "    'Mas Vnr Type',\n",
    "    'Foundation',\n",
    "    'Bsmt Qual',\n",
    "    'Bsmt Cond', \n",
    "    'BsmtFin Type 1', \n",
    "    'BsmtFin Type 2', \n",
    "    'Heating', \n",
    "    'Heating QC', \n",
    "    'Central Air', \n",
    "    'Electrical', \n",
    "    'Kitchen Qual', \n",
    "    'Functional',\n",
    "    'Fireplace Qu', \n",
    "    'Garage Type', \n",
    "    'Garage Finish',\n",
    "    'Garage Qual',\n",
    "    'Garage Cond', \n",
    "    'Paved Drive',  \n",
    "    'Pool QC',\n",
    "    'Fence',\n",
    "    'Misc Feature',\n",
    "    'Mo Sold', \n",
    "    'Yr Sold', \n",
    "    'Sale Type',]]"
   ]
  },
  {
   "cell_type": "code",
   "execution_count": 6,
   "metadata": {},
   "outputs": [],
   "source": [
    "# ames_test['Roof Matl',\n",
    "#           'BsmtFin SF 2', \n",
    "#           'Bsmt Unf SF', \n",
    "#           'Total Bsmt SF', \n",
    "#           'BsmtFin SF 1',\n",
    "#           '1st Flr SF',\n",
    "#           '2nd Flr SF', \n",
    "#           'Low Qual Fin SF', \n",
    "#           'Gr Liv Area', \n",
    "#           'Bsmt Full Bath',\n",
    "#           'Bsmt Half Bath', \n",
    "#           'Full Bath', \n",
    "#           'Half Bath', \n",
    "#           'Bedroom AbvGr',\n",
    "#           'Kitchen AbvGr',\n",
    "#           'TotRms AbvGrd',\n",
    "#           'Fireplaces',\n",
    "#           'Garage Yr Blt',\n",
    "#           'Garage Cars', \n",
    "#           'Garage Area',\n",
    "#           'Wood Deck SF', \n",
    "#           'Open Porch SF',\n",
    "#           'Enclosed Porch', \n",
    "#           '3Ssn Porch', \n",
    "#           'Screen Porch', \n",
    "#           'Pool Area',\n",
    "#           'Misc Val',\n",
    "# ]"
   ]
  },
  {
   "cell_type": "code",
   "execution_count": 7,
   "metadata": {},
   "outputs": [],
   "source": [
    "ames_train = ames_train.drop(columns=['PID', \"Land Slope\",'Lot Frontage', 'Garage Yr Blt', 'Street', 'Exter Qual', 'Exter Cond', 'Alley', 'Lot Config', 'Land Slope', 'Land Contour', 'Lot Shape', 'Condition 1', 'Condition 2', 'Mas Vnr Area', 'Bsmt Exposure', ], )"
   ]
  },
  {
   "cell_type": "code",
   "execution_count": 8,
   "metadata": {},
   "outputs": [],
   "source": [
    "# Create some dummy variables for lots of columns\n",
    "# Non Dummies to Inclued: 'Year Built', 'Overall Qual', 'Overall Cond', 'Year Remod/Add', \n",
    "ames_train = pd.get_dummies(ames_train, columns=[\n",
    "    'MS SubClass', \n",
    "    'MS Zoning', \n",
    "    'Neighborhood', \n",
    "    'Utilities',\n",
    "    'Bldg Type',\n",
    "    'House Style',\n",
    "    'Roof Style',\n",
    "    'Roof Matl',\n",
    "    'Exterior 1st',\n",
    "    'Exterior 2nd',\n",
    "    'Mas Vnr Type',\n",
    "    'Foundation',\n",
    "    'Bsmt Qual',\n",
    "    'Bsmt Cond', \n",
    "    'BsmtFin Type 1', \n",
    "    'BsmtFin Type 2', \n",
    "    'Heating', \n",
    "    'Heating QC', \n",
    "    'Central Air', \n",
    "    'Electrical', \n",
    "    'Kitchen Qual', \n",
    "    'Functional',\n",
    "    'Fireplace Qu', \n",
    "    'Garage Type', \n",
    "    'Garage Finish',\n",
    "    'Garage Qual',\n",
    "    'Garage Cond', \n",
    "    'Paved Drive',  \n",
    "    'Pool QC',\n",
    "    'Fence',\n",
    "    'Misc Feature',\n",
    "    'Mo Sold', \n",
    "    'Yr Sold', \n",
    "    'Sale Type',], drop_first=True)"
   ]
  },
  {
   "cell_type": "code",
   "execution_count": 9,
   "metadata": {},
   "outputs": [],
   "source": [
    "ames_train.dropna(inplace=True)"
   ]
  },
  {
   "cell_type": "code",
   "execution_count": 10,
   "metadata": {},
   "outputs": [],
   "source": [
    "variables = ames_train.drop(columns=['SalePrice']).columns\n"
   ]
  },
  {
   "cell_type": "code",
   "execution_count": 11,
   "metadata": {},
   "outputs": [],
   "source": [
    "y = ames_train['SalePrice']\n",
    "X = ames_train[variables]\n",
    "from sklearn.model_selection import train_test_split, cross_val_score\n",
    "from sklearn.linear_model import LinearRegression\n",
    "from sklearn.preprocessing import StandardScaler, PolynomialFeatures\n"
   ]
  },
  {
   "cell_type": "code",
   "execution_count": 12,
   "metadata": {},
   "outputs": [],
   "source": [
    "attempt_1 = LinearRegression()\n",
    "X_train, X_test, y_train, y_test = train_test_split(X, y, random_state=42)"
   ]
  },
  {
   "cell_type": "code",
   "execution_count": 13,
   "metadata": {
    "scrolled": true
   },
   "outputs": [
    {
     "data": {
      "text/plain": [
       "LinearRegression(copy_X=True, fit_intercept=True, n_jobs=None,\n",
       "         normalize=False)"
      ]
     },
     "execution_count": 13,
     "metadata": {},
     "output_type": "execute_result"
    }
   ],
   "source": [
    "attempt_1.fit(X_train, y_train)"
   ]
  },
  {
   "cell_type": "code",
   "execution_count": 14,
   "metadata": {},
   "outputs": [
    {
     "data": {
      "text/plain": [
       "0.7540113985189618"
      ]
     },
     "execution_count": 14,
     "metadata": {},
     "output_type": "execute_result"
    }
   ],
   "source": [
    "cross_val_score(attempt_1, X_train, y_train, cv=5).mean() "
   ]
  },
  {
   "cell_type": "code",
   "execution_count": 15,
   "metadata": {},
   "outputs": [
    {
     "data": {
      "text/plain": [
       "0.9098456204554168"
      ]
     },
     "execution_count": 15,
     "metadata": {},
     "output_type": "execute_result"
    }
   ],
   "source": [
    "attempt_1.score(X_test, y_test)"
   ]
  },
  {
   "cell_type": "code",
   "execution_count": 19,
   "metadata": {},
   "outputs": [
    {
     "data": {
      "text/plain": [
       "80"
      ]
     },
     "execution_count": 19,
     "metadata": {},
     "output_type": "execute_result"
    }
   ],
   "source": [
    "ames_test.shape[]"
   ]
  },
  {
   "cell_type": "code",
   "execution_count": 23,
   "metadata": {},
   "outputs": [],
   "source": [
    "def metrics_summary(X, y, cv, k):\n",
    "    model = LinearRegression()\n",
    "    model.fit(X,y)\n",
    "    model_p = model.predict(X)\n",
    "    resids = y - model_p\n",
    "    rss = (resids ** 2).sum()\n",
    "    r_squared = (metrics.r2_score(y, model_p))\n",
    "    adj_r2 = 1 - (1-r_squared)*((len(y)-1)/(len(y)-X.shape[k]-1))\n",
    "    cvs = cross_val_score(model, X, y, cv=cv).mean()\n",
    "\n",
    "    print(f'RSS (Residual Sum of Squares) : {(rss)}')\n",
    "    print(f'MAE (Mean Absolute Error) : {(metrics.mean_absolute_error(y, model_p))}') \n",
    "    print(f'MSE (Mean Square Error) : {(metrics.mean_squared_error(y, model_p))}')\n",
    "    print(f'Root MSE (Root Meen Square Error) : {(np.sqrt(rss / len(model_p)))}')\n",
    "    print(f'R\\u00b2 : {(r_squared)}')\n",
    "    print(f'Adjusted R\\u00b2 : {(adj_r2)}')\n",
    "    print(f'CVS (Cross Value Score) : {(cvs)}')\n"
   ]
  },
  {
   "cell_type": "code",
   "execution_count": 24,
   "metadata": {},
   "outputs": [
    {
     "name": "stdout",
     "output_type": "stream",
     "text": [
      "RSS (Residual Sum of Squares) : 117145774716.34674\n",
      "MAE (Mean Absolute Error) : 11061.427375096186\n",
      "MSE (Mean Square Error) : 228800341.24286473\n",
      "Root MSE (Root Meen Square Error) : 15126.147600855438\n",
      "R² : 0.9622185725909193\n",
      "Adjusted R² : 0.9305528438631645\n",
      "CVS (Cross Value Score) : 0.805468311430545\n"
     ]
    }
   ],
   "source": [
    "metrics_summary(X_test, y_test, 5, 1)"
   ]
  },
  {
   "cell_type": "code",
   "execution_count": null,
   "metadata": {},
   "outputs": [],
   "source": []
  }
 ],
 "metadata": {
  "kernelspec": {
   "display_name": "Python 3",
   "language": "python",
   "name": "python3"
  },
  "language_info": {
   "codemirror_mode": {
    "name": "ipython",
    "version": 3
   },
   "file_extension": ".py",
   "mimetype": "text/x-python",
   "name": "python",
   "nbconvert_exporter": "python",
   "pygments_lexer": "ipython3",
   "version": "3.6.8"
  }
 },
 "nbformat": 4,
 "nbformat_minor": 2
}
