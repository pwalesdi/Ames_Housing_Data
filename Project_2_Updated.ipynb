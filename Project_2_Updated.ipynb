{
 "cells": [
  {
   "cell_type": "markdown",
   "metadata": {},
   "source": []
  },
  {
   "cell_type": "code",
   "execution_count": 1,
   "metadata": {},
   "outputs": [],
   "source": [
    "import pandas as pd\n",
    "import numpy as np\n",
    "import seaborn as sns\n",
    "import matplotlib.pyplot as plt\n",
    "from sklearn import metrics\n",
    "from sklearn.linear_model import LinearRegression, LassoCV, RidgeCV\n",
    "from sklearn.model_selection import train_test_split, cross_val_score\n",
    "from sklearn.preprocessing import StandardScaler, PolynomialFeatures\n",
    "from sklearn.preprocessing import Imputer\n",
    "\n",
    "import copy\n",
    "import argparse\n",
    "\n",
    "%matplotlib inline"
   ]
  },
  {
   "cell_type": "code",
   "execution_count": 2,
   "metadata": {},
   "outputs": [
    {
     "name": "stdout",
     "output_type": "stream",
     "text": [
      "(2051, 81)\n",
      "(879, 80)\n"
     ]
    }
   ],
   "source": [
    "ames_train = pd.read_csv('./datasets/train.csv')\n",
    "ames_test = pd.read_csv('./datasets/test.csv')\n",
    "ames_test_1 = pd.read_csv('./datasets/test.csv')\n",
    "print(ames_train.shape)\n",
    "print(ames_test.shape)"
   ]
  },
  {
   "cell_type": "code",
   "execution_count": null,
   "metadata": {},
   "outputs": [],
   "source": [
    "ames_train['base_1st'] = ames_train['Total Bsmt SF'] * ames_train['1st Flr SF']\n",
    "ames_test['base_1st'] = ames_test['Total Bsmt SF'] * ames_test['1st Flr SF']"
   ]
  },
  {
   "cell_type": "code",
   "execution_count": 3,
   "metadata": {},
   "outputs": [],
   "source": [
    "ames_train['quality_year'] = ames_train['Overall Qual'] * ames_train['Year Built']\n",
    "ames_test['quality_year'] = ames_test['Overall Qual'] * ames_test['Year Built']"
   ]
  },
  {
   "cell_type": "code",
   "execution_count": 4,
   "metadata": {},
   "outputs": [],
   "source": [
    "ames_train['quality_sq_ft'] = ames_train['Overall Qual'] * ames_train['1st Flr SF']\n",
    "ames_test['quality_sq_ft'] = ames_test['Overall Qual'] * ames_test['1st Flr SF']"
   ]
  },
  {
   "cell_type": "code",
   "execution_count": 5,
   "metadata": {},
   "outputs": [],
   "source": [
    "ames_train['garage_area_cars'] = ames_train['Garage Area'] * ames_train['Garage Cars']\n",
    "ames_test['garage_area_cars'] = ames_test['Garage Area'] * ames_test['Garage Cars']"
   ]
  },
  {
   "cell_type": "code",
   "execution_count": 6,
   "metadata": {},
   "outputs": [],
   "source": [
    "ames_train['qual_neig'] = ames_train['Neighborhood'] * ames_train['Overall Qual']\n",
    "ames_test['qual_neig'] = ames_test['Neighborhood'] * ames_test['Overall Qual']"
   ]
  },
  {
   "cell_type": "code",
   "execution_count": 13,
   "metadata": {},
   "outputs": [],
   "source": [
    "ames_train['Quality_sq'] = ames_train['Overall Qual'] * ames_train['Overall Qual']\n",
    "ames_test['Quality_sq'] = ames_test['Overall Qual'] * ames_test['Overall Qual']"
   ]
  },
  {
   "cell_type": "code",
   "execution_count": null,
   "metadata": {},
   "outputs": [],
   "source": [
    "# ames_train['neig_sq_ft'] = ames_train['Neighborhood'] * ames_train['1st Flr SF']\n",
    "# ames_test['neig_sq_ft'] = ames_test['Neighborhood'] * ames_test['1st Flr SF']"
   ]
  },
  {
   "cell_type": "code",
   "execution_count": 7,
   "metadata": {
    "scrolled": true
   },
   "outputs": [],
   "source": [
    "# ames_train._get_numeric_data\n",
    "ames_test.fillna(ames_test.mean(), inplace=True)\n",
    "ames_test.fillna('no_value_reported', inplace=True)"
   ]
  },
  {
   "cell_type": "code",
   "execution_count": null,
   "metadata": {},
   "outputs": [],
   "source": [
    "ames_test.columns"
   ]
  },
  {
   "cell_type": "code",
   "execution_count": 14,
   "metadata": {},
   "outputs": [],
   "source": [
    "tested_col = ['Neighborhood',\n",
    "            'Overall Qual',\n",
    "            'Overall Cond', \n",
    "            'Year Built', \n",
    "            'Year Remod/Add', \n",
    "            'Total Bsmt SF', \n",
    "            '1st Flr SF',\n",
    "            'Gr Liv Area',\n",
    "            'Full Bath',\n",
    "            'TotRms AbvGrd',\n",
    "            'garage_area_cars',\n",
    "            'quality_year',\n",
    "            'quality_sq_ft',\n",
    "            'qual_neig',\n",
    "            'Quality_sq',\n",
    "            ]"
   ]
  },
  {
   "cell_type": "code",
   "execution_count": null,
   "metadata": {
    "scrolled": true
   },
   "outputs": [],
   "source": [
    "ames_train.corr()[['SalePrice']].sort_values('SalePrice', ascending=False)"
   ]
  },
  {
   "cell_type": "code",
   "execution_count": null,
   "metadata": {},
   "outputs": [],
   "source": [
    "# corr_1 = ames_train.corr()[['SalePrice', \n",
    "#             'Overall Qual',\n",
    "#             'Overall Cond', \n",
    "#             'Year Built', \n",
    "#             'Year Remod/Add', \n",
    "#             'Total Bsmt SF', \n",
    "#             '1st Flr SF',\n",
    "#             'Gr Liv Area',\n",
    "#             'Full Bath',\n",
    "#             'TotRms AbvGrd',\n",
    "#             'garage_area_cars',\n",
    "#             'quality_year',\n",
    "#             'quality_sq_ft']]\n",
    "# corr_1.shape"
   ]
  },
  {
   "cell_type": "code",
   "execution_count": null,
   "metadata": {},
   "outputs": [],
   "source": [
    "plt.figure(figsize = (40, 35))\n",
    "\n",
    "mask = np.zeros_like(ames_train.corr())\n",
    "mask[np.triu_indices_from(mask)] = True\n",
    "\n",
    "ax = sns.heatmap(ames_train.corr(), mask=mask, annot=True, cmap='PuOr', vmax=1, vmin=-1,\n",
    "            square=False, linewidths=1.5,  cbar_kws={\"shrink\": .5})\n"
   ]
  },
  {
   "cell_type": "code",
   "execution_count": null,
   "metadata": {},
   "outputs": [],
   "source": [
    "# # Creating a function that makes a power variable (feature) and puts that feature in a dataframe.\n",
    "# def new_variable(series_1, series_2, series_name, df):\n",
    "#     df[series_name] = series_1 * series_2\n",
    "#     return df"
   ]
  },
  {
   "cell_type": "code",
   "execution_count": 15,
   "metadata": {},
   "outputs": [],
   "source": [
    "def dropped_cols(df, tested_col):\n",
    "    dropped_col = []\n",
    "    for col in df:\n",
    "        if col not in tested_col:\n",
    "            dropped_col.append(col)\n",
    "    return dropped_col  \n",
    "\n",
    "\n",
    "def dummy_vars_list(df, tested_cols):\n",
    "    dummy_vars_list = []\n",
    "    for col in tested_cols:\n",
    "        if df[col].dtype.name == 'object':\n",
    "            dummy_vars_list.append(col)\n",
    "    return dummy_vars_list            \n",
    "    \n",
    "\n",
    "\n",
    "def get_dummies(train, test, columns, drop_first=True,\n",
    "                inplace=False):\n",
    "    if not inplace:\n",
    "        train = copy.deepcopy(train)\n",
    "        test = copy.deepcopy(test)\n",
    "        \n",
    "\n",
    "    for column in columns:\n",
    "        train_levels = set(train[column])\n",
    "        test_levels = set(test[column])\n",
    "        all_levels = sorted(train_levels.union(test_levels))\n",
    "        if drop_first:\n",
    "            all_levels = all_levels[1:]\n",
    "        for level in all_levels:\n",
    "            dummy_name = \"%s_is_%s\" % (column, level)\n",
    "            train[dummy_name] = (train[column] == level) # Could be replaced with an if statement\n",
    "            test[dummy_name] = (test[column] == level)\n",
    "    train.drop(columns=columns, inplace=True)\n",
    "    test.drop(columns=columns, inplace=True)\n",
    "\n",
    "    \n",
    "    # return only necessary if inplace=False\n",
    "    return (train, test)\n",
    "\n",
    "def check_compatibility(train, test):\n",
    "    # assume compatible unless one of these checks fails\n",
    "    if not (len(train.columns) == len(test.columns)):\n",
    "        return False\n",
    "    for column in train.columns:\n",
    "        if not (column in test.columns):\n",
    "            return False\n",
    "    return True\n",
    "\n",
    "\n",
    "def clean_data(train, test, columns_to_drop,\n",
    "               columns_for_dummies, remove_na=True,\n",
    "               drop_first=True, inplace=False):\n",
    "    if not inplace:\n",
    "        train = copy.deepcopy(train)\n",
    "        test = copy.deepcopy(test)\n",
    "  \n",
    "    # inplace=True because if user called with inplace=False,\n",
    "    # we already made a copy and aren't modifying his/her original\n",
    "    train.drop(columns=columns_to_drop, inplace=True)\n",
    "    test.drop(columns=columns_to_drop, inplace=True)\n",
    "  \n",
    "\n",
    "#     same reason as above for inplace=True\n",
    "    if remove_na:\n",
    "        train.dropna(inplace=True)\n",
    "        test.dropna(inplace=True)\n",
    "\n",
    "\n",
    "    (train, test) = get_dummies(train, test,\n",
    "                                columns=columns_for_dummies,\n",
    "                                drop_first=drop_first,\n",
    "                                inplace=inplace)\n",
    "    \n",
    "\n",
    "    return (train, test)\n",
    "\n",
    "\n",
    "###################\n",
    "\n",
    "def patrick_clean_data(train_df, test_df, variables, remove_na=True, drop_first=True, inplace=False):\n",
    "    columns_to_drop = dropped_cols(test_df, variables)\n",
    "    dummy_columns = dummy_vars_list(test_df, variables)\n",
    "    new_train, new_test = clean_data(train_df, test_df, \n",
    "                                     columns_to_drop, \n",
    "                                     dummy_columns, \n",
    "                                     remove_na=remove_na, \n",
    "                                     drop_first=drop_first, \n",
    "                                     inplace=inplace)\n",
    "    \n",
    "    y_col_name = []\n",
    "    for col in new_train.columns:\n",
    "        if col not in new_test.columns:\n",
    "            y = new_train[col]\n",
    "            y_col_name = col\n",
    "    new_train = new_train.drop(y_col_name, axis=1)\n",
    "    \n",
    "    assert check_compatibility(new_train, new_test)\n",
    "    \n",
    "#     for column in new_test.columns: # Turn this on if I want to see what columns were made\n",
    "#         print(column)\n",
    "\n",
    "    return new_train, new_test, y"
   ]
  },
  {
   "cell_type": "code",
   "execution_count": 16,
   "metadata": {
    "scrolled": false
   },
   "outputs": [
    {
     "name": "stdout",
     "output_type": "stream",
     "text": [
      "(879, 169)\n",
      "(2049, 169)\n",
      "(2049,)\n"
     ]
    }
   ],
   "source": [
    "new_train, new_test, y = patrick_clean_data(ames_train, ames_test, tested_col,)\n",
    "print(new_test.shape)\n",
    "print(new_train.shape)\n",
    "print(y.shape)"
   ]
  },
  {
   "cell_type": "code",
   "execution_count": 17,
   "metadata": {},
   "outputs": [],
   "source": [
    "def metrics_summary(X, y, test_set, cv, k, scaled=True):\n",
    "    ss = StandardScaler()\n",
    "    ss.fit(X)\n",
    "    X_sc = ss.transform(X)\n",
    "    test_sc = ss.transform(test_set)\n",
    "    model = LinearRegression()\n",
    "    lasso = LassoCV(cv=5)    \n",
    "    ridge = RidgeCV(cv=5)\n",
    "    model.fit(X,y)\n",
    "    model_p = model.predict(X)\n",
    "    resids = y - model_p\n",
    "    rss = (resids ** 2).sum()\n",
    "    r_squared = (metrics.r2_score(y, model_p))\n",
    "    adj_r2 = 1 - (1-r_squared)*((len(y)-1)/(len(y)-X.shape[k]-1))\n",
    "    cvs = cross_val_score(model, X_sc, y, cv=cv).mean()\n",
    "    cvs_l = cross_val_score(lasso, X_sc, y, cv=cv).mean()\n",
    "    cvs_r = cross_val_score(ridge, X_sc, y, cv=cv).mean()\n",
    "\n",
    "    print(f'RSS (Residual Sum of Squares) : {(rss)}')\n",
    "    print(f'MAE (Mean Absolute Error) : {(metrics.mean_absolute_error(y, model_p))}') \n",
    "    print(f'MSE (Mean Square Error) : {(metrics.mean_squared_error(y, model_p))}')\n",
    "    print(f'Root MSE (Root Meen Square Error) : {(np.sqrt(rss / len(model_p)))}')\n",
    "    print(f'R\\u00b2 : {(r_squared)}')\n",
    "    print(f'Adjusted R\\u00b2 : {(adj_r2)}')\n",
    "    print(f'CVS (Cross Value Score LR) : {(cvs)}')\n",
    "    print(f'CVS (Cross Value Score Lasso) : {(cvs_l)}')\n",
    "    print(f'CVS (Cross Value Score Ridge) : {(cvs_r)}')\n",
    "    \n",
    "    model.fit(X_sc, y)\n",
    "    model_pred = model.predict(test_sc)\n",
    "    lasso.fit(X_sc, y)\n",
    "    lasso_pred = lasso.predict(test_sc)\n",
    "    ridge.fit(X_sc, y)\n",
    "    ridge_pred = ridge.predict(test_sc)\n",
    "    \n",
    "    if (cvs > cvs_l) and (cvs > cvs_r):\n",
    "        prediction = pd.DataFrame(model_pred, columns=['SalePrice']).to_csv('wd_prediction_7.csv')\n",
    "    elif (cvs_l > cvs) and (cvs_l > cvs_r):\n",
    "        prediction = pd.DataFrame(lasso_pred, columns=['SalePrice']).to_csv('wd_prediction_7.csv')\n",
    "    elif (cvs_r > cvs_l) and (cvs_r > cvs):\n",
    "        prediction = pd.DataFrame(ridge_pred, columns=['SalePrice']).to_csv('wd_prediction_7.csv')\n",
    "    return prediction\n"
   ]
  },
  {
   "cell_type": "code",
   "execution_count": 18,
   "metadata": {
    "scrolled": false
   },
   "outputs": [
    {
     "name": "stderr",
     "output_type": "stream",
     "text": [
      "/anaconda3/lib/python3.6/site-packages/sklearn/preprocessing/data.py:645: DataConversionWarning: Data with input dtype bool, int64, float64 were all converted to float64 by StandardScaler.\n",
      "  return self.partial_fit(X, y)\n",
      "/anaconda3/lib/python3.6/site-packages/ipykernel_launcher.py:4: DataConversionWarning: Data with input dtype bool, int64, float64 were all converted to float64 by StandardScaler.\n",
      "  after removing the cwd from sys.path.\n",
      "/anaconda3/lib/python3.6/site-packages/ipykernel_launcher.py:5: DataConversionWarning: Data with input dtype bool, int64 were all converted to float64 by StandardScaler.\n",
      "  \"\"\"\n"
     ]
    },
    {
     "name": "stdout",
     "output_type": "stream",
     "text": [
      "RSS (Residual Sum of Squares) : 1147394421316.8352\n",
      "MAE (Mean Absolute Error) : 16315.29914126168\n",
      "MSE (Mean Square Error) : 559977755.6451124\n",
      "Root MSE (Root Meen Square Error) : 23663.849129951628\n",
      "R² : 0.9108232809540036\n",
      "Adjusted R² : 0.9028025968035122\n",
      "CVS (Cross Value Score LR) : -2.5980718928532623e+26\n",
      "CVS (Cross Value Score Lasso) : 0.8818299299340783\n",
      "CVS (Cross Value Score Ridge) : 0.8817498807302042\n"
     ]
    }
   ],
   "source": [
    "metrics_summary(new_train, y, new_test, 5, 1, scaled=True)"
   ]
  },
  {
   "cell_type": "raw",
   "metadata": {},
   "source": [
    "# Blank = pd.DataFrame(some_model_prediction, columns=['SalePrice']).to_csv('some_name.csv')\n"
   ]
  }
 ],
 "metadata": {
  "kernelspec": {
   "display_name": "Python 3",
   "language": "python",
   "name": "python3"
  },
  "language_info": {
   "codemirror_mode": {
    "name": "ipython",
    "version": 3
   },
   "file_extension": ".py",
   "mimetype": "text/x-python",
   "name": "python",
   "nbconvert_exporter": "python",
   "pygments_lexer": "ipython3",
   "version": "3.6.8"
  }
 },
 "nbformat": 4,
 "nbformat_minor": 2
}
