{
 "cells": [
  {
   "cell_type": "markdown",
   "metadata": {},
   "source": []
  },
  {
   "cell_type": "code",
   "execution_count": 3,
   "metadata": {},
   "outputs": [],
   "source": [
    "import pandas as pd\n",
    "import numpy as np\n",
    "import seaborn as sns\n",
    "import matplotlib.pyplot as plt\n",
    "from sklearn import metrics\n",
    "from sklearn.linear_model import LinearRegression, LassoCV, RidgeCV\n",
    "from sklearn.model_selection import train_test_split, cross_val_score\n",
    "from sklearn.preprocessing import StandardScaler, PolynomialFeatures, PowerTransformer\n",
    "from sklearn.preprocessing import Imputer\n",
    "\n",
    "import copy\n",
    "import argparse\n",
    "\n",
    "%matplotlib inline"
   ]
  },
  {
   "cell_type": "code",
   "execution_count": 4,
   "metadata": {},
   "outputs": [
    {
     "name": "stdout",
     "output_type": "stream",
     "text": [
      "(2051, 81)\n",
      "(879, 80)\n"
     ]
    }
   ],
   "source": [
    "ames_train = pd.read_csv('./datasets/train.csv')\n",
    "ames_test = pd.read_csv('./datasets/test.csv')\n",
    "ames_test_1 = pd.read_csv('./datasets/test.csv')\n",
    "test_id = ames_test['Id'].to_frame()\n",
    "print(ames_train.shape)\n",
    "print(ames_test.shape)"
   ]
  },
  {
   "cell_type": "code",
   "execution_count": null,
   "metadata": {},
   "outputs": [],
   "source": []
  },
  {
   "cell_type": "code",
   "execution_count": null,
   "metadata": {},
   "outputs": [],
   "source": [
    "ames_train['base_1st'] = ames_train['Total Bsmt SF'] * ames_train['1st Flr SF']\n",
    "ames_test['base_1st'] = ames_test['Total Bsmt SF'] * ames_test['1st Flr SF']"
   ]
  },
  {
   "cell_type": "code",
   "execution_count": null,
   "metadata": {},
   "outputs": [],
   "source": [
    "ames_train['quality_year'] = ames_train['Overall Qual'] * ames_train['Year Built']\n",
    "ames_test['quality_year'] = ames_test['Overall Qual'] * ames_test['Year Built']"
   ]
  },
  {
   "cell_type": "code",
   "execution_count": null,
   "metadata": {},
   "outputs": [],
   "source": [
    "ames_train['quality_sq_ft'] = ames_train['Overall Qual'] * ames_train['1st Flr SF']\n",
    "ames_test['quality_sq_ft'] = ames_test['Overall Qual'] * ames_test['1st Flr SF']"
   ]
  },
  {
   "cell_type": "code",
   "execution_count": null,
   "metadata": {},
   "outputs": [],
   "source": [
    "ames_train['garage_area_cars'] = ames_train['Garage Area'] * ames_train['Garage Cars']\n",
    "ames_test['garage_area_cars'] = ames_test['Garage Area'] * ames_test['Garage Cars']"
   ]
  },
  {
   "cell_type": "code",
   "execution_count": null,
   "metadata": {},
   "outputs": [],
   "source": [
    "ames_train['qual_neig'] = ames_train['Neighborhood'] * ames_train['Overall Qual']\n",
    "ames_test['qual_neig'] = ames_test['Neighborhood'] * ames_test['Overall Qual']"
   ]
  },
  {
   "cell_type": "code",
   "execution_count": null,
   "metadata": {},
   "outputs": [],
   "source": [
    "ames_train['Quality_sq'] = ames_train['Overall Qual'] * ames_train['Overall Qual']\n",
    "ames_test['Quality_sq'] = ames_test['Overall Qual'] * ames_test['Overall Qual']"
   ]
  },
  {
   "cell_type": "code",
   "execution_count": null,
   "metadata": {},
   "outputs": [],
   "source": [
    "ames_train['GLA_OQ'] = ames_train['Gr Liv Area'] * ames_train['Overall Qual']\n",
    "ames_test['GLA_OQ'] = ames_test['Gr Liv Area'] * ames_test['Overall Qual']"
   ]
  },
  {
   "cell_type": "code",
   "execution_count": null,
   "metadata": {},
   "outputs": [],
   "source": [
    "ames_train['GLA_SQ'] = ames_train['Gr Liv Area'] * ames_train['Gr Liv Area']\n",
    "ames_test['GLA_SQ'] = ames_test['Gr Liv Area'] * ames_test['Gr Liv Area']"
   ]
  },
  {
   "cell_type": "code",
   "execution_count": null,
   "metadata": {},
   "outputs": [],
   "source": [
    "ames_train['Yr_brm'] = ames_train['Year Built'] * ames_train['Year Remod/Add']\n",
    "ames_test['Yr_brm'] = ames_test['Year Built'] * ames_test['Year Remod/Add']"
   ]
  },
  {
   "cell_type": "code",
   "execution_count": null,
   "metadata": {},
   "outputs": [],
   "source": [
    "ames_train['GLA_Bath'] = ames_train['Gr Liv Area'] * ames_train['Full Bath']\n",
    "ames_test['GLA_Bath'] = ames_test['Gr Liv Area'] * ames_test['Full Bath']"
   ]
  },
  {
   "cell_type": "code",
   "execution_count": null,
   "metadata": {},
   "outputs": [],
   "source": [
    "# ames_train._get_numeric_data\n",
    "ames_test.fillna(ames_test.mean(), inplace=True)\n",
    "ames_test.fillna('no_value_reported', inplace=True)"
   ]
  },
  {
   "cell_type": "code",
   "execution_count": null,
   "metadata": {},
   "outputs": [],
   "source": [
    "ames_test.columns"
   ]
  },
  {
   "cell_type": "code",
   "execution_count": 14,
   "metadata": {},
   "outputs": [],
   "source": [
    "tested_col = [\n",
    "            'Overall Qual', 'Alley']         \n",
    "            \n",
    "    \n",
    "    \n",
    "    \n",
    "    \n",
    "    \n",
    "    \n",
    "    \n",
    "#     'Year Built',            \n",
    "#     'Gr Liv Area',            \n",
    "#     'Neighborhood',            \n",
    "#     'GLA_SQ',\n",
    "# 'Quality_sq',\n",
    "# 'GLA_OQ',\n",
    "# 'quality_year',\n",
    "# 'quality_sq_ft',\n",
    "# 'MS Zoning',\n",
    "# ]\n"
   ]
  },
  {
   "cell_type": "code",
   "execution_count": 6,
   "metadata": {
    "scrolled": true
   },
   "outputs": [
    {
     "data": {
      "text/html": [
       "<div>\n",
       "<style scoped>\n",
       "    .dataframe tbody tr th:only-of-type {\n",
       "        vertical-align: middle;\n",
       "    }\n",
       "\n",
       "    .dataframe tbody tr th {\n",
       "        vertical-align: top;\n",
       "    }\n",
       "\n",
       "    .dataframe thead th {\n",
       "        text-align: right;\n",
       "    }\n",
       "</style>\n",
       "<table border=\"1\" class=\"dataframe\">\n",
       "  <thead>\n",
       "    <tr style=\"text-align: right;\">\n",
       "      <th></th>\n",
       "      <th>SalePrice</th>\n",
       "    </tr>\n",
       "  </thead>\n",
       "  <tbody>\n",
       "    <tr>\n",
       "      <th>SalePrice</th>\n",
       "      <td>1.000000</td>\n",
       "    </tr>\n",
       "    <tr>\n",
       "      <th>Overall Qual</th>\n",
       "      <td>0.800207</td>\n",
       "    </tr>\n",
       "    <tr>\n",
       "      <th>Gr Liv Area</th>\n",
       "      <td>0.697038</td>\n",
       "    </tr>\n",
       "    <tr>\n",
       "      <th>Garage Area</th>\n",
       "      <td>0.650270</td>\n",
       "    </tr>\n",
       "    <tr>\n",
       "      <th>Garage Cars</th>\n",
       "      <td>0.648220</td>\n",
       "    </tr>\n",
       "    <tr>\n",
       "      <th>Total Bsmt SF</th>\n",
       "      <td>0.628925</td>\n",
       "    </tr>\n",
       "    <tr>\n",
       "      <th>1st Flr SF</th>\n",
       "      <td>0.618486</td>\n",
       "    </tr>\n",
       "    <tr>\n",
       "      <th>Year Built</th>\n",
       "      <td>0.571849</td>\n",
       "    </tr>\n",
       "    <tr>\n",
       "      <th>Year Remod/Add</th>\n",
       "      <td>0.550370</td>\n",
       "    </tr>\n",
       "    <tr>\n",
       "      <th>Full Bath</th>\n",
       "      <td>0.537969</td>\n",
       "    </tr>\n",
       "    <tr>\n",
       "      <th>Garage Yr Blt</th>\n",
       "      <td>0.533922</td>\n",
       "    </tr>\n",
       "    <tr>\n",
       "      <th>Mas Vnr Area</th>\n",
       "      <td>0.512230</td>\n",
       "    </tr>\n",
       "    <tr>\n",
       "      <th>TotRms AbvGrd</th>\n",
       "      <td>0.504014</td>\n",
       "    </tr>\n",
       "    <tr>\n",
       "      <th>Fireplaces</th>\n",
       "      <td>0.471093</td>\n",
       "    </tr>\n",
       "    <tr>\n",
       "      <th>BsmtFin SF 1</th>\n",
       "      <td>0.423519</td>\n",
       "    </tr>\n",
       "    <tr>\n",
       "      <th>Lot Frontage</th>\n",
       "      <td>0.341842</td>\n",
       "    </tr>\n",
       "    <tr>\n",
       "      <th>Open Porch SF</th>\n",
       "      <td>0.333476</td>\n",
       "    </tr>\n",
       "    <tr>\n",
       "      <th>Wood Deck SF</th>\n",
       "      <td>0.326490</td>\n",
       "    </tr>\n",
       "    <tr>\n",
       "      <th>Lot Area</th>\n",
       "      <td>0.296566</td>\n",
       "    </tr>\n",
       "    <tr>\n",
       "      <th>Bsmt Full Bath</th>\n",
       "      <td>0.283662</td>\n",
       "    </tr>\n",
       "    <tr>\n",
       "      <th>Half Bath</th>\n",
       "      <td>0.283001</td>\n",
       "    </tr>\n",
       "    <tr>\n",
       "      <th>2nd Flr SF</th>\n",
       "      <td>0.248452</td>\n",
       "    </tr>\n",
       "    <tr>\n",
       "      <th>Bsmt Unf SF</th>\n",
       "      <td>0.190210</td>\n",
       "    </tr>\n",
       "    <tr>\n",
       "      <th>Bedroom AbvGr</th>\n",
       "      <td>0.137067</td>\n",
       "    </tr>\n",
       "    <tr>\n",
       "      <th>Screen Porch</th>\n",
       "      <td>0.134581</td>\n",
       "    </tr>\n",
       "    <tr>\n",
       "      <th>3Ssn Porch</th>\n",
       "      <td>0.048732</td>\n",
       "    </tr>\n",
       "    <tr>\n",
       "      <th>Mo Sold</th>\n",
       "      <td>0.032735</td>\n",
       "    </tr>\n",
       "    <tr>\n",
       "      <th>Pool Area</th>\n",
       "      <td>0.023106</td>\n",
       "    </tr>\n",
       "    <tr>\n",
       "      <th>BsmtFin SF 2</th>\n",
       "      <td>0.016255</td>\n",
       "    </tr>\n",
       "    <tr>\n",
       "      <th>Misc Val</th>\n",
       "      <td>-0.007375</td>\n",
       "    </tr>\n",
       "    <tr>\n",
       "      <th>Yr Sold</th>\n",
       "      <td>-0.015203</td>\n",
       "    </tr>\n",
       "    <tr>\n",
       "      <th>Low Qual Fin SF</th>\n",
       "      <td>-0.041594</td>\n",
       "    </tr>\n",
       "    <tr>\n",
       "      <th>Bsmt Half Bath</th>\n",
       "      <td>-0.045328</td>\n",
       "    </tr>\n",
       "    <tr>\n",
       "      <th>Id</th>\n",
       "      <td>-0.051398</td>\n",
       "    </tr>\n",
       "    <tr>\n",
       "      <th>MS SubClass</th>\n",
       "      <td>-0.087335</td>\n",
       "    </tr>\n",
       "    <tr>\n",
       "      <th>Overall Cond</th>\n",
       "      <td>-0.097019</td>\n",
       "    </tr>\n",
       "    <tr>\n",
       "      <th>Kitchen AbvGr</th>\n",
       "      <td>-0.125444</td>\n",
       "    </tr>\n",
       "    <tr>\n",
       "      <th>Enclosed Porch</th>\n",
       "      <td>-0.135656</td>\n",
       "    </tr>\n",
       "    <tr>\n",
       "      <th>PID</th>\n",
       "      <td>-0.255052</td>\n",
       "    </tr>\n",
       "  </tbody>\n",
       "</table>\n",
       "</div>"
      ],
      "text/plain": [
       "                 SalePrice\n",
       "SalePrice         1.000000\n",
       "Overall Qual      0.800207\n",
       "Gr Liv Area       0.697038\n",
       "Garage Area       0.650270\n",
       "Garage Cars       0.648220\n",
       "Total Bsmt SF     0.628925\n",
       "1st Flr SF        0.618486\n",
       "Year Built        0.571849\n",
       "Year Remod/Add    0.550370\n",
       "Full Bath         0.537969\n",
       "Garage Yr Blt     0.533922\n",
       "Mas Vnr Area      0.512230\n",
       "TotRms AbvGrd     0.504014\n",
       "Fireplaces        0.471093\n",
       "BsmtFin SF 1      0.423519\n",
       "Lot Frontage      0.341842\n",
       "Open Porch SF     0.333476\n",
       "Wood Deck SF      0.326490\n",
       "Lot Area          0.296566\n",
       "Bsmt Full Bath    0.283662\n",
       "Half Bath         0.283001\n",
       "2nd Flr SF        0.248452\n",
       "Bsmt Unf SF       0.190210\n",
       "Bedroom AbvGr     0.137067\n",
       "Screen Porch      0.134581\n",
       "3Ssn Porch        0.048732\n",
       "Mo Sold           0.032735\n",
       "Pool Area         0.023106\n",
       "BsmtFin SF 2      0.016255\n",
       "Misc Val         -0.007375\n",
       "Yr Sold          -0.015203\n",
       "Low Qual Fin SF  -0.041594\n",
       "Bsmt Half Bath   -0.045328\n",
       "Id               -0.051398\n",
       "MS SubClass      -0.087335\n",
       "Overall Cond     -0.097019\n",
       "Kitchen AbvGr    -0.125444\n",
       "Enclosed Porch   -0.135656\n",
       "PID              -0.255052"
      ]
     },
     "execution_count": 6,
     "metadata": {},
     "output_type": "execute_result"
    }
   ],
   "source": [
    "ames_train.corr()[['SalePrice']].sort_values('SalePrice', ascending=False)"
   ]
  },
  {
   "cell_type": "code",
   "execution_count": null,
   "metadata": {},
   "outputs": [],
   "source": []
  },
  {
   "cell_type": "code",
   "execution_count": 18,
   "metadata": {},
   "outputs": [],
   "source": [
    "def dropped_cols(df, tested_col):\n",
    "    dropped_col = []\n",
    "    for col in df:\n",
    "        if col not in tested_col:\n",
    "            dropped_col.append(col)\n",
    "    return dropped_col  \n",
    "\n",
    "\n",
    "def dummy_vars_list(df, tested_cols):\n",
    "    dummy_vars_list = []\n",
    "    for col in tested_cols:\n",
    "        if df[col].dtype.name == 'object':\n",
    "            dummy_vars_list.append(col)\n",
    "    return dummy_vars_list            \n",
    "    \n",
    "\n",
    "\n",
    "def get_dummies(train, test, columns, drop_first=True,\n",
    "                inplace=False):\n",
    "    if not inplace:\n",
    "        train = copy.deepcopy(train)\n",
    "        test = copy.deepcopy(test)\n",
    "        \n",
    "\n",
    "    for column in columns:\n",
    "        train_levels = set(train[column])\n",
    "        test_levels = set(test[column])\n",
    "        all_levels = sorted(train_levels.union(test_levels))\n",
    "        if drop_first:\n",
    "            all_levels = all_levels[1:]\n",
    "        for level in all_levels:\n",
    "            dummy_name = \"%s_is_%s\" % (column, level)\n",
    "            train[dummy_name] = (train[column] == level) # Could be replaced with an if statement\n",
    "            test[dummy_name] = (test[column] == level)\n",
    "    train.drop(columns=columns, inplace=True)\n",
    "    test.drop(columns=columns, inplace=True)\n",
    "\n",
    "    \n",
    "    # return only necessary if inplace=False\n",
    "    return (train, test)\n",
    "\n",
    "def check_compatibility(train, test):\n",
    "    # assume compatible unless one of these checks fails\n",
    "    if not (len(train.columns) == len(test.columns)):\n",
    "        return False\n",
    "    for column in train.columns:\n",
    "        if not (column in test.columns):\n",
    "            return False\n",
    "    return True\n",
    "\n",
    "\n",
    "def clean_data(train, test, columns_to_drop,\n",
    "               columns_for_dummies, remove_na=True,\n",
    "               drop_first=True, inplace=False):\n",
    "    if not inplace:\n",
    "        train = copy.deepcopy(train)\n",
    "        test = copy.deepcopy(test)\n",
    "  \n",
    "    # inplace=True because if user called with inplace=False,\n",
    "    # we already made a copy and aren't modifying his/her original\n",
    "    train.drop(columns=columns_to_drop, inplace=True)\n",
    "    test.drop(columns=columns_to_drop, inplace=True)\n",
    "  \n",
    "\n",
    "#     same reason as above for inplace=True\n",
    "    if remove_na:\n",
    "        train.dropna(inplace=True)\n",
    "        test.dropna(inplace=True)\n",
    "\n",
    "\n",
    "    (train, test) = get_dummies(train, test,\n",
    "                                columns=columns_for_dummies,\n",
    "                                drop_first=drop_first,\n",
    "                                inplace=inplace)\n",
    "    \n",
    "\n",
    "    return (train, test)\n",
    "\n",
    "\n",
    "###################\n",
    "\n",
    "def patrick_clean_data(train_df, test_df, variables, remove_na=True, drop_first=True, inplace=False):\n",
    "    columns_to_drop = dropped_cols(test_df, variables)\n",
    "    dummy_columns = dummy_vars_list(test_df, variables)\n",
    "    new_train, new_test = clean_data(train_df, test_df, \n",
    "                                     columns_to_drop, \n",
    "                                     dummy_columns, \n",
    "                                     remove_na=remove_na, \n",
    "                                     drop_first=drop_first, \n",
    "                                     inplace=inplace)\n",
    "    \n",
    "    y_col_name = []\n",
    "    for col in new_train.columns:\n",
    "        if col not in new_test.columns:\n",
    "            y = new_train[col]\n",
    "            y_col_name = col\n",
    "    new_train = new_train.drop(y_col_name, axis=1)\n",
    "    \n",
    "    assert check_compatibility(new_train, new_test)\n",
    "    \n",
    "#     for column in new_test.columns: # Turn this on if I want to see what columns were made\n",
    "#         print(column)\n",
    "\n",
    "    return new_train, new_test, y"
   ]
  },
  {
   "cell_type": "code",
   "execution_count": 19,
   "metadata": {
    "scrolled": false
   },
   "outputs": [
    {
     "name": "stdout",
     "output_type": "stream",
     "text": [
      "(58, 2)\n",
      "(140, 2)\n",
      "(140,)\n"
     ]
    }
   ],
   "source": [
    "new_train, new_test, y = patrick_clean_data(ames_train, ames_test, tested_col)\n",
    "print(new_test.shape)\n",
    "print(new_train.shape)\n",
    "print(y.shape)\n"
   ]
  },
  {
   "cell_type": "code",
   "execution_count": 20,
   "metadata": {},
   "outputs": [
    {
     "data": {
      "text/plain": [
       "Index(['Overall Qual', 'Alley_is_Pave'], dtype='object')"
      ]
     },
     "execution_count": 20,
     "metadata": {},
     "output_type": "execute_result"
    }
   ],
   "source": [
    "new_train.columns"
   ]
  },
  {
   "cell_type": "code",
   "execution_count": null,
   "metadata": {},
   "outputs": [],
   "source": [
    "ames_train[['Gr Liv Area', 'GLA_SQ', 'Total Bsmt SF', '1st Flr SF']].head()\n"
   ]
  },
  {
   "cell_type": "code",
   "execution_count": null,
   "metadata": {},
   "outputs": [],
   "source": [
    "'Overall Qual',            \n",
    "            'Year Built',            \n",
    "    'Gr Liv Area',            \n",
    "    'Neighborhood',            \n",
    "    'GLA_SQ',\n",
    "'Quality_sq',\n",
    "'GLA_OQ',\n",
    "'quality_year',\n",
    "'quality_sq_ft'"
   ]
  },
  {
   "cell_type": "code",
   "execution_count": null,
   "metadata": {},
   "outputs": [],
   "source": [
    "# poly = PolynomialFeatures(degree=2, interaction_only=False, include_bias=False)\n",
    "\n",
    "# # Fit and transform our X data.\n",
    "# poly_train = poly.fit_transform(new_train)\n",
    "# poly_test = poly.fit_transform(new_test)\n",
    "# poly_train.shape"
   ]
  },
  {
   "cell_type": "code",
   "execution_count": null,
   "metadata": {},
   "outputs": [],
   "source": [
    "# poly.get_feature_names(tested_col)\n"
   ]
  },
  {
   "cell_type": "code",
   "execution_count": null,
   "metadata": {},
   "outputs": [],
   "source": [
    "def log_like_fn(val):\n",
    "    if (val == 0):\n",
    "        return 0\n",
    "    else:\n",
    "        return np.log(val)    "
   ]
  },
  {
   "cell_type": "code",
   "execution_count": null,
   "metadata": {
    "scrolled": true
   },
   "outputs": [],
   "source": [
    "new_train['Gr Liv Area'] = new_train['Gr Liv Area'].map(log_like_fn)\n",
    "new_train['GLA_SQ'] = new_train['GLA_SQ'].map(log_like_fn)\n",
    "# new_train['Total Bsmt SF'] = new_train['Total Bsmt SF'].map(log_like_fn)\n",
    "# new_train['1st Flr SF'] = new_train['1st Flr SF'].map(log_like_fn)\n",
    "new_train['Quality_sq'] = new_train['Quality_sq'].map(log_like_fn)\n",
    "new_train['GLA_OQ'] = new_train['GLA_OQ'].map(log_like_fn)\n",
    "new_train['quality_year'] = new_train['quality_year'].map(log_like_fn)\n",
    "new_train['quality_sq_ft'] = new_train['quality_sq_ft'].map(log_like_fn)\n"
   ]
  },
  {
   "cell_type": "code",
   "execution_count": null,
   "metadata": {},
   "outputs": [],
   "source": [
    "new_test['Gr Liv Area'] = new_test['Gr Liv Area'].map(log_like_fn)\n",
    "new_test['GLA_SQ'] = new_test['GLA_SQ'].map(log_like_fn)\n",
    "# new_test['Total Bsmt SF'] = new_test['Total Bsmt SF'].map(log_like_fn)\n",
    "# new_test['1st Flr SF'] = new_test['1st Flr SF'].map(log_like_fn)\n",
    "new_test['Quality_sq'] = new_test['Quality_sq'].map(log_like_fn)\n",
    "new_test['GLA_OQ'] = new_test['GLA_OQ'].map(log_like_fn)\n",
    "new_test['quality_year'] = new_test['quality_year'].map(log_like_fn)\n",
    "new_test['quality_sq_ft'] = new_test['quality_sq_ft'].map(log_like_fn)\n"
   ]
  },
  {
   "cell_type": "code",
   "execution_count": null,
   "metadata": {},
   "outputs": [],
   "source": [
    "y = np.log(y)\n",
    "# new_train['Total Bsmt SF'].sort_values(ascending=False)\n",
    "# new_test.fillna(new_test.mean(), inplace=True)\n",
    "# new_train.fillna(new_train.mean(), inplace=True)"
   ]
  },
  {
   "cell_type": "code",
   "execution_count": null,
   "metadata": {},
   "outputs": [],
   "source": [
    "# pt_new_train = new_train[['Gr Liv Area', 'GLA_SQ', 'Total Bsmt SF', '1st Flr SF']].apply(take_logTotal Bsmt SF', '1st Flr SF']]))\n",
    "# pt_new_test = new_test[['Gr Liv Area', 'GLA_SQ', 'Total Bsmt SF', '1st Flr SF']].apply(take_log(new_test[['Gr Liv Area', 'GLA_SQ', 'Total Bsmt SF', '1st Flr SF']]))\n",
    "# y = y.map(np.log)\n"
   ]
  },
  {
   "cell_type": "code",
   "execution_count": null,
   "metadata": {},
   "outputs": [],
   "source": []
  },
  {
   "cell_type": "code",
   "execution_count": null,
   "metadata": {},
   "outputs": [],
   "source": [
    "def metrics_summary(X, y, test_set, cv, k, scaled=True, poly=False, n_alphas=100):\n",
    "    \n",
    "#     if poly:\n",
    "#         poly = PolynomialFeatures(degree=2, interaction_only=False, include_bias=False)\n",
    "#         poly_train = poly.fit_transform(X)\n",
    "#         poly_test = poly.fit_transform(new_test)\n",
    "    \n",
    "    # Scaling our data\n",
    "    ss = StandardScaler()\n",
    "    X_sc = ss.fit_transform(X)\n",
    "    test_sc = ss.transform(test_set)\n",
    "\n",
    "    # Instantiating our models\n",
    "    model = LinearRegression()\n",
    "    lasso = LassoCV(n_alphas=n_alphas, cv=5)    \n",
    "    ridge = RidgeCV(cv=5)\n",
    "\n",
    "    # Fitting our models on non-scaled and scaled data\n",
    "    model.fit(X,y)\n",
    "    model.fit(X_sc, y)\n",
    "    lasso.fit(X_sc, y)\n",
    "    ridge.fit(X_sc, y)\n",
    "\n",
    "    # Running the predictions on our model\n",
    "    model_p = model.predict(X)\n",
    "    model_pred = model.predict(X_sc)\n",
    "    lasso_pred = lasso.predict(X_sc)\n",
    "    ridge_pred = ridge.predict(X_sc)\n",
    "\n",
    "    resids_lr = y - model_p\n",
    "    resids_lr_sc = y - model_pred\n",
    "    resids_lasso = y - lasso_pred\n",
    "    resids_ridge = y - ridge_pred\n",
    "\n",
    "    rss_lr = (resids_lr ** 2).sum()\n",
    "    rss_lr_sc = (resids_lr_sc ** 2).sum()\n",
    "    rss_lasso = (resids_lasso ** 2).sum()\n",
    "    rss_ridge = (resids_ridge ** 2).sum()\n",
    "\n",
    "    r_squared = (metrics.r2_score(y, model_p))\n",
    "    adj_r2 = 1 - (1-r_squared)*((len(y)-1)/(len(y)-X.shape[k]-1))\n",
    "\n",
    "    # Running cross value scores\n",
    "    cvs = cross_val_score(model, X_sc, y, cv=cv).mean()\n",
    "    cvs_l = cross_val_score(lasso, X_sc, y, cv=cv).mean()\n",
    "    cvs_r = cross_val_score(ridge, X_sc, y, cv=cv).mean()\n",
    "\n",
    "    print(f'RSS (Residual Sum of Squares) : {(rss_lr)}')\n",
    "    print(f'MAE (Mean Absolute Error) : {(metrics.mean_absolute_error(y, model_p))}') \n",
    "    print(f'MSE (Mean Square Error) : {(metrics.mean_squared_error(y, model_p))}')\n",
    "    print()\n",
    "    print(f'Root MSE (Root Meen Square Error Linear Non-Scaled) : {(np.sqrt(rss_lr / len(model_p)))}')\n",
    "    print(f'Root MSE (Root Meen Square Error Linear Scaled) : {(np.sqrt(rss_lr_sc / len(model_pred)))}')\n",
    "    print(f'Root MSE (Root Meen Square Error Lasso) : {(np.sqrt(rss_lasso / len(lasso_pred)))}')\n",
    "    print(f'Root MSE (Root Meen Square Error Ridge) : {(np.sqrt(rss_ridge / len(ridge_pred)))}')\n",
    "    print()\n",
    "    print(f'R\\u00b2 : {(r_squared)}')\n",
    "    print(f'Adjusted R\\u00b2 : {(adj_r2)}')\n",
    "    print()\n",
    "    print(f'CVS (Cross Value Score LR) : {(cvs)}')\n",
    "    print(f'CVS (Cross Value Score Lasso) : {(cvs_l)}')\n",
    "    print(f'CVS (Cross Value Score Ridge) : {(cvs_r)}')\n",
    "\n",
    "    model.fit(X_sc, y)\n",
    "    model_pred_final = model.predict(test_sc)\n",
    "    lasso.fit(X_sc, y)\n",
    "    lasso_pred_final = lasso.predict(test_sc)\n",
    "    ridge.fit(X_sc, y)\n",
    "    ridge_pred_final = ridge.predict(test_sc)\n",
    "\n",
    "    if (cvs > cvs_l) and (cvs > cvs_r):\n",
    "        prediction = pd.DataFrame({'Id': test_id['Id'], 'SalePrice': model_pred_final}).to_csv('wd_prediction_17.csv', index=False)\n",
    "    elif (cvs_l > cvs) and (cvs_l > cvs_r):\n",
    "        prediction = pd.DataFrame({'Id': test_id['Id'], 'SalePrice': lasso_pred_final}).to_csv('wd_prediction_17.csv', index=False)\n",
    "    elif (cvs_r > cvs_l) and (cvs_r > cvs):\n",
    "        prediction = pd.DataFrame({'Id': test_id['Id'], 'SalePrice': ridge_pred_final}).to_csv('wd_prediction_17.csv', index=False)\n",
    "    return prediction, ridge_pred_final, lasso_pred_final, model_pred_final\n"
   ]
  },
  {
   "cell_type": "code",
   "execution_count": null,
   "metadata": {
    "scrolled": false
   },
   "outputs": [],
   "source": [
    "prediction, ridge, lasso, linear = metrics_summary(new_train, y, new_test, 5, 1, scaled=True, poly=False)"
   ]
  },
  {
   "cell_type": "code",
   "execution_count": null,
   "metadata": {},
   "outputs": [],
   "source": [
    "prediction = np.exp(lasso)"
   ]
  },
  {
   "cell_type": "code",
   "execution_count": null,
   "metadata": {},
   "outputs": [],
   "source": [
    "np.exp(lasso)"
   ]
  },
  {
   "cell_type": "code",
   "execution_count": null,
   "metadata": {},
   "outputs": [],
   "source": [
    "prediction = pd.DataFrame({'Id': test_id['Id'], 'SalePrice': prediction}).to_csv('wd_prediction_21.csv', index=False)\n"
   ]
  },
  {
   "cell_type": "code",
   "execution_count": null,
   "metadata": {},
   "outputs": [],
   "source": []
  },
  {
   "cell_type": "code",
   "execution_count": null,
   "metadata": {},
   "outputs": [],
   "source": []
  }
 ],
 "metadata": {
  "kernelspec": {
   "display_name": "Python 3",
   "language": "python",
   "name": "python3"
  },
  "language_info": {
   "codemirror_mode": {
    "name": "ipython",
    "version": 3
   },
   "file_extension": ".py",
   "mimetype": "text/x-python",
   "name": "python",
   "nbconvert_exporter": "python",
   "pygments_lexer": "ipython3",
   "version": "3.6.8"
  }
 },
 "nbformat": 4,
 "nbformat_minor": 2
}
