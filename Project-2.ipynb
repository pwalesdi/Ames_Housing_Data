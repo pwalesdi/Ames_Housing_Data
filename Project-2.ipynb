{
 "cells": [
  {
   "cell_type": "markdown",
   "metadata": {},
   "source": [
    "<img src=\"http://imgur.com/1ZcRyrc.png\" style=\"float: left; margin: 20px; height: 55px\">\n",
    "\n",
    "# Project 2 - Ames Housing Data and Kaggle Challenge\n",
    "\n",
    "_Authors: Patrick Wales-Dinan_\n",
    "\n",
    "---\n",
    "\n",
    "\"What is this lab about\""
   ]
  },
  {
   "cell_type": "code",
   "execution_count": 1,
   "metadata": {},
   "outputs": [],
   "source": [
    "import pandas as pd\n",
    "import numpy as np\n",
    "import seaborn as sns\n",
    "import matplotlib.pyplot as plt\n",
    "from sklearn import metrics\n",
    "from sklearn.linear_model import LinearRegression\n",
    "import copy\n",
    "import argparse\n",
    "\n",
    "%matplotlib inline"
   ]
  },
  {
   "cell_type": "code",
   "execution_count": 2,
   "metadata": {},
   "outputs": [
    {
     "name": "stdout",
     "output_type": "stream",
     "text": [
      "(2051, 81)\n",
      "(879, 80)\n"
     ]
    }
   ],
   "source": [
    "ames_train = pd.read_csv('./datasets/train.csv')\n",
    "ames_test = pd.read_csv('./datasets/test.csv')\n",
    "ames_test_1 = pd.read_csv('./datasets/test.csv')\n",
    "print(ames_train.shape)\n",
    "print(ames_test.shape)"
   ]
  },
  {
   "cell_type": "code",
   "execution_count": null,
   "metadata": {},
   "outputs": [],
   "source": [
    "y = ames_train['SalePrice']\n",
    "ames_train = ames_train.drop(columns=['SalePrice'], inplace=False)\n",
    "def create_variables(df):\n",
    "    df = df.drop(columns=['PID', \n",
    "                     \"Land Slope\",\n",
    "                     'Lot Frontage', \n",
    "                     'Garage Yr Blt', \n",
    "                     'Street', \n",
    "                     'Exter Qual', \n",
    "                     'Exter Cond', \n",
    "                     'Alley', \n",
    "                     'Lot Config', \n",
    "                     'Land Slope', \n",
    "                     'Land Contour', \n",
    "                     'Lot Shape', \n",
    "                     'Condition 1', \n",
    "                     'Condition 2', \n",
    "                     'Mas Vnr Area',\n",
    "                     'Bsmt Exposure',], )\n",
    "    df = pd.get_dummies(df, columns=[\n",
    "        'MS SubClass', \n",
    "        'MS Zoning', \n",
    "        'Neighborhood', \n",
    "        'Utilities',\n",
    "        'Bldg Type',\n",
    "        'House Style',\n",
    "        'Roof Style',\n",
    "        'Roof Matl',\n",
    "        'Exterior 1st',\n",
    "        'Exterior 2nd',\n",
    "        'Mas Vnr Type',\n",
    "        'Foundation',\n",
    "        'Bsmt Qual',\n",
    "        'Bsmt Cond', \n",
    "        'BsmtFin Type 1', \n",
    "        'BsmtFin Type 2', \n",
    "        'Heating', \n",
    "        'Heating QC', \n",
    "        'Central Air', \n",
    "        'Electrical', \n",
    "        'Kitchen Qual', \n",
    "        'Functional',\n",
    "        'Fireplace Qu', \n",
    "        'Garage Type', \n",
    "        'Garage Finish',\n",
    "        'Garage Qual',\n",
    "        'Garage Cond', \n",
    "        'Paved Drive',  \n",
    "        'Pool QC',\n",
    "        'Fence',\n",
    "        'Misc Feature',\n",
    "        'Mo Sold', \n",
    "        'Yr Sold', \n",
    "        'Sale Type',], drop_first=True)\n",
    "    for column in ames_train.columns:\n",
    "        if column not in ames_test.columns:\n",
    "            ames\n",
    "    return df"
   ]
  },
  {
   "cell_type": "code",
   "execution_count": null,
   "metadata": {},
   "outputs": [],
   "source": [
    "for column in ames_train.columns:\n",
    "    if column not in ames_test.columns:\n",
    "        "
   ]
  },
  {
   "cell_type": "code",
   "execution_count": null,
   "metadata": {},
   "outputs": [],
   "source": [
    "for column in ames_test.columns:\n",
    "    if column not in ames_train.columns:\n",
    "        print(column)"
   ]
  },
  {
   "cell_type": "code",
   "execution_count": null,
   "metadata": {},
   "outputs": [],
   "source": [
    "\n",
    "def get_dummies(train, test, columns, drop_first=True,\n",
    "                inplace=False):\n",
    "    if not inplace:\n",
    "        train = copy.deepcopy(train)\n",
    "        test = copy.deepcopy(test)\n",
    "\n",
    "    for column in columns:\n",
    "        train_levels = set(train[column])\n",
    "        test_levels = set(test[column])\n",
    "        all_levels = sorted(train_levels.union(test_levels))\n",
    "        if drop_first:\n",
    "            all_levels = all_levels[1:]\n",
    "        for level in all_levels:\n",
    "            dummy_name = \"is_%s\" % level\n",
    "            train[dummy_name] = (train[column] == level)\n",
    "            test[dummy_name] = (test[column] == level)\n",
    "    train.drop(columns=columns)\n",
    "    test.drop(columns=columns)\n",
    "\n",
    "    for column in train.columns:\n",
    "        print column\n",
    "\n",
    "    # return only necessary if inplace=False\n",
    "    return (train, test)\n",
    "\n",
    "def check_compatibility(train, test):\n",
    "    # assume compatible unless one of these checks fails\n",
    "    if not (len(train.columns) == len(test.columns)):\n",
    "        return False\n",
    "    for column in train.columns:\n",
    "        if not (column in test.columns):\n",
    "            return False\n",
    "    return True\n",
    "\n",
    "###################\n",
    "\n",
    "def clean_data(train, test, columns_to_drop,\n",
    "               columns_for_dummies, remove_na=True,\n",
    "               drop_first=True, inplace=False):\n",
    "    assert check_compatibility(train, test)\n",
    "    if not inplace:\n",
    "        train = copy.deepcopy(train)\n",
    "        test = copy.deepcopy(test)\n",
    "  \n",
    "    # inplace=True because if user called with inplace=False,\n",
    "    # we already made a copy and aren't modifying his/her original\n",
    "    train.drop(columns=columns_to_drop, inplace=True)\n",
    "    test.drop(columns=columns_to_drop, inplace=True)\n",
    "\n",
    "    # same reason as above for inplace=True\n",
    "    if remove_na:\n",
    "        train.dropna(inplace=True)\n",
    "        test.dropna(inplace=True)\n",
    "\n",
    "    (train, test) = get_dummies(train, test,\n",
    "                                columns=columns_for_dummies,\n",
    "                                drop_first=drop_first,\n",
    "                                inplace=inplace)\n",
    "\n",
    "    return (train, test)\n"
   ]
  },
  {
   "cell_type": "code",
   "execution_count": null,
   "metadata": {},
   "outputs": [],
   "source": [
    "patrick = create_variables(ames_test)\n",
    "for column in patrick.columns:\n",
    "    print(column)\n"
   ]
  },
  {
   "cell_type": "code",
   "execution_count": null,
   "metadata": {},
   "outputs": [],
   "source": [
    "ames_train.columns"
   ]
  },
  {
   "cell_type": "code",
   "execution_count": 4,
   "metadata": {},
   "outputs": [],
   "source": [
    "quant_vars = ames_train[['Roof Matl',\n",
    "          'BsmtFin SF 2', \n",
    "          'Bsmt Unf SF', \n",
    "          'Total Bsmt SF',\n",
    "          'BsmtFin SF 1',\n",
    "          '1st Flr SF',\n",
    "          '2nd Flr SF', \n",
    "          'Low Qual Fin SF', \n",
    "          'Gr Liv Area', \n",
    "          'Bsmt Full Bath',\n",
    "          'Bsmt Half Bath', \n",
    "          'Full Bath', \n",
    "          'Half Bath', \n",
    "          'Bedroom AbvGr',\n",
    "          'Kitchen AbvGr',\n",
    "          'TotRms AbvGrd',\n",
    "          'Fireplaces',\n",
    "          'Garage Cars', \n",
    "          'Garage Area',\n",
    "          'Wood Deck SF', \n",
    "          'Open Porch SF',\n",
    "          'Enclosed Porch', \n",
    "          '3Ssn Porch', \n",
    "          'Screen Porch', \n",
    "          'Pool Area',\n",
    "          'Misc Val']]"
   ]
  },
  {
   "cell_type": "code",
   "execution_count": 5,
   "metadata": {},
   "outputs": [],
   "source": [
    "non_quant_vars = ames_train[['MS SubClass', \n",
    "    'MS Zoning', \n",
    "    'Neighborhood', \n",
    "    'Utilities',\n",
    "    'Bldg Type',\n",
    "    'House Style',\n",
    "    'Roof Style',\n",
    "    'Roof Matl',\n",
    "    'Exterior 1st',\n",
    "    'Exterior 2nd',\n",
    "    'Mas Vnr Type',\n",
    "    'Foundation',\n",
    "    'Bsmt Qual',\n",
    "    'Bsmt Cond', \n",
    "    'BsmtFin Type 1', \n",
    "    'BsmtFin Type 2', \n",
    "    'Heating', \n",
    "    'Heating QC', \n",
    "    'Central Air', \n",
    "    'Electrical', \n",
    "    'Kitchen Qual', \n",
    "    'Functional',\n",
    "    'Fireplace Qu', \n",
    "    'Garage Type', \n",
    "    'Garage Finish',\n",
    "    'Garage Qual',\n",
    "    'Garage Cond', \n",
    "    'Paved Drive',  \n",
    "    'Pool QC',\n",
    "    'Fence',\n",
    "    'Misc Feature',\n",
    "    'Mo Sold', \n",
    "    'Yr Sold', \n",
    "    'Sale Type',]]"
   ]
  },
  {
   "cell_type": "code",
   "execution_count": 16,
   "metadata": {},
   "outputs": [
    {
     "data": {
      "text/plain": [
       "Id                  int64\n",
       "PID                 int64\n",
       "MS SubClass         int64\n",
       "MS Zoning          object\n",
       "Lot Frontage      float64\n",
       "Lot Area            int64\n",
       "Street             object\n",
       "Alley              object\n",
       "Lot Shape          object\n",
       "Land Contour       object\n",
       "Utilities          object\n",
       "Lot Config         object\n",
       "Land Slope         object\n",
       "Neighborhood       object\n",
       "Condition 1        object\n",
       "Condition 2        object\n",
       "Bldg Type          object\n",
       "House Style        object\n",
       "Overall Qual        int64\n",
       "Overall Cond        int64\n",
       "Year Built          int64\n",
       "Year Remod/Add      int64\n",
       "Roof Style         object\n",
       "Roof Matl          object\n",
       "Exterior 1st       object\n",
       "Exterior 2nd       object\n",
       "Mas Vnr Type       object\n",
       "Mas Vnr Area      float64\n",
       "Exter Qual         object\n",
       "Exter Cond         object\n",
       "                   ...   \n",
       "Half Bath           int64\n",
       "Bedroom AbvGr       int64\n",
       "Kitchen AbvGr       int64\n",
       "Kitchen Qual       object\n",
       "TotRms AbvGrd       int64\n",
       "Functional         object\n",
       "Fireplaces          int64\n",
       "Fireplace Qu       object\n",
       "Garage Type        object\n",
       "Garage Yr Blt     float64\n",
       "Garage Finish      object\n",
       "Garage Cars       float64\n",
       "Garage Area       float64\n",
       "Garage Qual        object\n",
       "Garage Cond        object\n",
       "Paved Drive        object\n",
       "Wood Deck SF        int64\n",
       "Open Porch SF       int64\n",
       "Enclosed Porch      int64\n",
       "3Ssn Porch          int64\n",
       "Screen Porch        int64\n",
       "Pool Area           int64\n",
       "Pool QC            object\n",
       "Fence              object\n",
       "Misc Feature       object\n",
       "Misc Val            int64\n",
       "Mo Sold             int64\n",
       "Yr Sold             int64\n",
       "Sale Type          object\n",
       "SalePrice           int64\n",
       "Length: 81, dtype: object"
      ]
     },
     "execution_count": 16,
     "metadata": {},
     "output_type": "execute_result"
    }
   ],
   "source": []
  },
  {
   "cell_type": "code",
   "execution_count": null,
   "metadata": {},
   "outputs": [],
   "source": [
    "ames_train = ames_train.drop(columns=['PID', \"Land Slope\",'Lot Frontage', 'Garage Yr Blt', 'Street', 'Exter Qual', 'Exter Cond', 'Alley', 'Lot Config', 'Land Slope', 'Land Contour', 'Lot Shape', 'Condition 1', 'Condition 2', 'Mas Vnr Area', 'Bsmt Exposure', ], )\n",
    "ames_test = ames_test.drop(columns=['PID', \"Land Slope\",'Lot Frontage', 'Garage Yr Blt', 'Street', 'Exter Qual', 'Exter Cond', 'Alley', 'Lot Config', 'Land Slope', 'Land Contour', 'Lot Shape', 'Condition 1', 'Condition 2', 'Mas Vnr Area', 'Bsmt Exposure', ], )\n",
    "print(ames_train.shape)\n",
    "print(ames_test.shape)"
   ]
  },
  {
   "cell_type": "code",
   "execution_count": null,
   "metadata": {},
   "outputs": [],
   "source": [
    "# Create some dummy variables for lots of columns\n",
    "# Non Dummies to Inclued: 'Year Built', 'Overall Qual', 'Overall Cond', 'Year Remod/Add', \n",
    "ames_train = pd.get_dummies(ames_train, columns=[\n",
    "    'MS SubClass', \n",
    "    'MS Zoning', \n",
    "    'Neighborhood', \n",
    "    'Utilities',\n",
    "    'Bldg Type',\n",
    "    'House Style',\n",
    "    'Roof Style',\n",
    "    'Roof Matl',\n",
    "    'Exterior 1st',\n",
    "    'Exterior 2nd',\n",
    "    'Mas Vnr Type',\n",
    "    'Foundation',\n",
    "    'Bsmt Qual',\n",
    "    'Bsmt Cond', \n",
    "    'BsmtFin Type 1', \n",
    "    'BsmtFin Type 2', \n",
    "    'Heating', \n",
    "    'Heating QC', \n",
    "    'Central Air', \n",
    "    'Electrical', \n",
    "    'Kitchen Qual', \n",
    "    'Functional',\n",
    "    'Fireplace Qu', \n",
    "    'Garage Type', \n",
    "    'Garage Finish',\n",
    "    'Garage Qual',\n",
    "    'Garage Cond', \n",
    "    'Paved Drive',  \n",
    "    'Pool QC',\n",
    "    'Fence',\n",
    "    'Misc Feature',\n",
    "    'Mo Sold', \n",
    "    'Yr Sold', \n",
    "    'Sale Type',], drop_first=True)\n",
    "print(ames_train.shape)\n",
    "print(ames_test.shape)\n"
   ]
  },
  {
   "cell_type": "code",
   "execution_count": null,
   "metadata": {},
   "outputs": [],
   "source": [
    "ames_train.dropna(inplace=True)\n",
    "print(ames_train.shape)\n",
    "print(ames_test.shape)"
   ]
  },
  {
   "cell_type": "code",
   "execution_count": null,
   "metadata": {},
   "outputs": [],
   "source": [
    "variables = ames_train.drop(columns=['SalePrice']).columns\n",
    "ames_train.shape"
   ]
  },
  {
   "cell_type": "code",
   "execution_count": null,
   "metadata": {},
   "outputs": [],
   "source": [
    "y = ames_train['SalePrice']\n",
    "X = ames_train[variables]\n",
    "from sklearn.model_selection import train_test_split, cross_val_score\n",
    "from sklearn.linear_model import LinearRegression\n",
    "from sklearn.preprocessing import StandardScaler, PolynomialFeatures\n"
   ]
  },
  {
   "cell_type": "code",
   "execution_count": null,
   "metadata": {},
   "outputs": [],
   "source": [
    "attempt_1 = LinearRegression()\n",
    "X_train, X_test, y_train, y_test = train_test_split(X, y, random_state=42)"
   ]
  },
  {
   "cell_type": "code",
   "execution_count": null,
   "metadata": {
    "scrolled": true
   },
   "outputs": [],
   "source": [
    "attempt_1.fit(X_train, y_train)"
   ]
  },
  {
   "cell_type": "code",
   "execution_count": null,
   "metadata": {},
   "outputs": [],
   "source": [
    "cross_val_score(attempt_1, X_train, y_train, cv=5).mean() "
   ]
  },
  {
   "cell_type": "code",
   "execution_count": null,
   "metadata": {},
   "outputs": [],
   "source": [
    "attempt_1.score(X_test, y_test)"
   ]
  },
  {
   "cell_type": "code",
   "execution_count": null,
   "metadata": {},
   "outputs": [],
   "source": [
    "def metrics_summary(X, y, cv, k):\n",
    "    model = LinearRegression()\n",
    "    model.fit(X,y)\n",
    "    model_p = model.predict(X)\n",
    "    resids = y - model_p\n",
    "    rss = (resids ** 2).sum()\n",
    "    r_squared = (metrics.r2_score(y, model_p))\n",
    "    adj_r2 = 1 - (1-r_squared)*((len(y)-1)/(len(y)-X.shape[k]-1))\n",
    "    cvs = cross_val_score(model, X, y, cv=cv).mean()\n",
    "\n",
    "    print(f'RSS (Residual Sum of Squares) : {(rss)}')\n",
    "    print(f'MAE (Mean Absolute Error) : {(metrics.mean_absolute_error(y, model_p))}') \n",
    "    print(f'MSE (Mean Square Error) : {(metrics.mean_squared_error(y, model_p))}')\n",
    "    print(f'Root MSE (Root Meen Square Error) : {(np.sqrt(rss / len(model_p)))}')\n",
    "    print(f'R\\u00b2 : {(r_squared)}')\n",
    "    print(f'Adjusted R\\u00b2 : {(adj_r2)}')\n",
    "    print(f'CVS (Cross Value Score) : {(cvs)}')\n"
   ]
  },
  {
   "cell_type": "code",
   "execution_count": null,
   "metadata": {},
   "outputs": [],
   "source": [
    "metrics_summary(X_train, y_train, 5, 1)"
   ]
  },
  {
   "cell_type": "code",
   "execution_count": null,
   "metadata": {},
   "outputs": [],
   "source": []
  },
  {
   "cell_type": "code",
   "execution_count": null,
   "metadata": {},
   "outputs": [],
   "source": [
    "ames_test.shape"
   ]
  },
  {
   "cell_type": "code",
   "execution_count": null,
   "metadata": {},
   "outputs": [],
   "source": [
    "for column in ames_train.columns:\n",
    "    if column not in ames_test.columns:\n",
    "        print(column)"
   ]
  },
  {
   "cell_type": "code",
   "execution_count": null,
   "metadata": {},
   "outputs": [],
   "source": [
    "for column in ames_test.columns:\n",
    "    if column not in ames_train.columns:\n",
    "        print(column)"
   ]
  },
  {
   "cell_type": "code",
   "execution_count": null,
   "metadata": {},
   "outputs": [],
   "source": []
  }
 ],
 "metadata": {
  "kernelspec": {
   "display_name": "Python 3",
   "language": "python",
   "name": "python3"
  },
  "language_info": {
   "codemirror_mode": {
    "name": "ipython",
    "version": 3
   },
   "file_extension": ".py",
   "mimetype": "text/x-python",
   "name": "python",
   "nbconvert_exporter": "python",
   "pygments_lexer": "ipython3",
   "version": "3.6.8"
  }
 },
 "nbformat": 4,
 "nbformat_minor": 2
}
